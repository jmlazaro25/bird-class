{
 "cells": [
  {
   "cell_type": "markdown",
   "id": "8b294d8e-997b-4adb-8e8f-3249d59a44f1",
   "metadata": {},
   "source": [
    "# Analysis of model attached to dataset (ds_model)"
   ]
  },
  {
   "cell_type": "markdown",
   "id": "1d09b0f3-7f52-4187-a505-8dd1998505b8",
   "metadata": {},
   "source": [
    "## Full ds_model evaluation"
   ]
  },
  {
   "cell_type": "markdown",
   "id": "2e8a5483-7c57-494a-9985-29ceeb855bb8",
   "metadata": {},
   "source": [
    "With the full training dataset and further data augmentation to reach 200 images for each class ([https://www.kaggle.com/datasets/gpiosenka/100-bird-species](https://www.kaggle.com/datasets/gpiosenka/100-bird-species)), the model attached to the dataset (ds_model) achieves an impressive ~99% F1-score on the test dataset as shown below."
   ]
  },
  {
   "cell_type": "code",
   "execution_count": 1,
   "id": "b8121fce-671e-476e-9c73-18fc43320ba8",
   "metadata": {},
   "outputs": [
    {
     "name": "stderr",
     "output_type": "stream",
     "text": [
      "2023-10-24 15:39:05.068523: I tensorflow/tsl/cuda/cudart_stub.cc:28] Could not find cuda drivers on your machine, GPU will not be used.\n",
      "2023-10-24 15:39:05.128219: E tensorflow/compiler/xla/stream_executor/cuda/cuda_dnn.cc:9342] Unable to register cuDNN factory: Attempting to register factory for plugin cuDNN when one has already been registered\n",
      "2023-10-24 15:39:05.128266: E tensorflow/compiler/xla/stream_executor/cuda/cuda_fft.cc:609] Unable to register cuFFT factory: Attempting to register factory for plugin cuFFT when one has already been registered\n",
      "2023-10-24 15:39:05.128302: E tensorflow/compiler/xla/stream_executor/cuda/cuda_blas.cc:1518] Unable to register cuBLAS factory: Attempting to register factory for plugin cuBLAS when one has already been registered\n",
      "2023-10-24 15:39:05.138446: I tensorflow/tsl/cuda/cudart_stub.cc:28] Could not find cuda drivers on your machine, GPU will not be used.\n",
      "2023-10-24 15:39:06.375980: W tensorflow/compiler/tf2tensorrt/utils/py_utils.cc:38] TF-TRT Warning: Could not find TensorRT\n",
      "/usr/lib/python3/dist-packages/scipy/__init__.py:146: UserWarning: A NumPy version >=1.17.3 and <1.25.0 is required for this version of SciPy (detected version 1.26.1\n",
      "  warnings.warn(f\"A NumPy version >={np_minversion} and <{np_maxversion}\"\n"
     ]
    },
    {
     "name": "stdout",
     "output_type": "stream",
     "text": [
      "Found 2625 files belonging to 525 classes.\n",
      "6/6 [==============================] - 40s 5s/step - loss: 0.2549 - accuracy: 0.9897 - F1_score: 0.9913\n"
     ]
    },
    {
     "data": {
      "text/plain": [
       "[0.2549077272415161, 0.9897142648696899, 0.9912918210029602]"
      ]
     },
     "execution_count": 1,
     "metadata": {},
     "output_type": "execute_result"
    }
   ],
   "source": [
    "import tensorflow as tf\n",
    "import os\n",
    "\n",
    "\n",
    "RAW_IMAGE_HEIGHT = 224\n",
    "RAW_IMAGE_WIDTH = 224\n",
    "RAW_IMAGE_CHANNELS = 3\n",
    "\n",
    "BASE_DIR = os.getcwd()\n",
    "DATA_DIR = os.path.join(BASE_DIR, 'data')\n",
    "BATCH_SIZE = 512\n",
    "\n",
    "\n",
    "dataset_test = tf.keras.utils.image_dataset_from_directory(\n",
    "    os.path.join(DATA_DIR, 'test'),\n",
    "    batch_size=BATCH_SIZE,\n",
    "    label_mode='categorical',\n",
    "    image_size=(RAW_IMAGE_HEIGHT, RAW_IMAGE_WIDTH),\n",
    "    crop_to_aspect_ratio=True\n",
    ")\n",
    "\n",
    "ds_model = tf.keras.models.load_model(\n",
    "    os.path.join('data', 'EfficientNetB0-525-(224 X 224)- 98.97.h5'),\n",
    "    custom_objects={\n",
    "        'F1_score': tf.keras.metrics.F1Score(average='weighted', threshold=None, name='f1_score', dtype=None)\n",
    "    }\n",
    ")\n",
    "ds_model.trainable = False\n",
    "ds_model.evaluate(dataset_test)"
   ]
  },
  {
   "cell_type": "markdown",
   "id": "f9dfb83b-693a-4371-a0c2-9e6bb4a57821",
   "metadata": {},
   "source": [
    "## ds_model with less training data (ds_model_ltd)"
   ]
  },
  {
   "cell_type": "markdown",
   "id": "e8147fbe-82bc-427d-9c3e-45831899c267",
   "metadata": {},
   "source": [
    "ds_model and the models trained in `optim.py` are both based on EfficientNetB0:"
   ]
  },
  {
   "cell_type": "code",
   "execution_count": 2,
   "id": "552e4649-8e0a-45ad-98a9-3076a5e20b31",
   "metadata": {},
   "outputs": [
    {
     "name": "stdout",
     "output_type": "stream",
     "text": [
      "Downloading data from https://storage.googleapis.com/keras-applications/efficientnetb0_notop.h5\n",
      "16705208/16705208 [==============================] - 10s 1us/step\n",
      "Model: \"efficientnetb0\"\n",
      "__________________________________________________________________________________________________\n",
      " Layer (type)                Output Shape                 Param #   Connected to                  \n",
      "==================================================================================================\n",
      " input_1 (InputLayer)        [(None, 224, 224, 3)]        0         []                            \n",
      "                                                                                                  \n",
      " rescaling (Rescaling)       (None, 224, 224, 3)          0         ['input_1[0][0]']             \n",
      "                                                                                                  \n",
      " normalization (Normalizati  (None, 224, 224, 3)          7         ['rescaling[0][0]']           \n",
      " on)                                                                                              \n",
      "                                                                                                  \n",
      " rescaling_1 (Rescaling)     (None, 224, 224, 3)          0         ['normalization[0][0]']       \n",
      "                                                                                                  \n",
      " stem_conv_pad (ZeroPadding  (None, 225, 225, 3)          0         ['rescaling_1[0][0]']         \n",
      " 2D)                                                                                              \n",
      "                                                                                                  \n",
      " stem_conv (Conv2D)          (None, 112, 112, 32)         864       ['stem_conv_pad[0][0]']       \n",
      "                                                                                                  \n",
      " stem_bn (BatchNormalizatio  (None, 112, 112, 32)         128       ['stem_conv[0][0]']           \n",
      " n)                                                                                               \n",
      "                                                                                                  \n",
      " stem_activation (Activatio  (None, 112, 112, 32)         0         ['stem_bn[0][0]']             \n",
      " n)                                                                                               \n",
      "                                                                                                  \n",
      " block1a_dwconv (DepthwiseC  (None, 112, 112, 32)         288       ['stem_activation[0][0]']     \n",
      " onv2D)                                                                                           \n",
      "                                                                                                  \n",
      " block1a_bn (BatchNormaliza  (None, 112, 112, 32)         128       ['block1a_dwconv[0][0]']      \n",
      " tion)                                                                                            \n",
      "                                                                                                  \n",
      " block1a_activation (Activa  (None, 112, 112, 32)         0         ['block1a_bn[0][0]']          \n",
      " tion)                                                                                            \n",
      "                                                                                                  \n",
      " block1a_se_squeeze (Global  (None, 32)                   0         ['block1a_activation[0][0]']  \n",
      " AveragePooling2D)                                                                                \n",
      "                                                                                                  \n",
      " block1a_se_reshape (Reshap  (None, 1, 1, 32)             0         ['block1a_se_squeeze[0][0]']  \n",
      " e)                                                                                               \n",
      "                                                                                                  \n",
      " block1a_se_reduce (Conv2D)  (None, 1, 1, 8)              264       ['block1a_se_reshape[0][0]']  \n",
      "                                                                                                  \n",
      " block1a_se_expand (Conv2D)  (None, 1, 1, 32)             288       ['block1a_se_reduce[0][0]']   \n",
      "                                                                                                  \n",
      " block1a_se_excite (Multipl  (None, 112, 112, 32)         0         ['block1a_activation[0][0]',  \n",
      " y)                                                                  'block1a_se_expand[0][0]']   \n",
      "                                                                                                  \n",
      " block1a_project_conv (Conv  (None, 112, 112, 16)         512       ['block1a_se_excite[0][0]']   \n",
      " 2D)                                                                                              \n",
      "                                                                                                  \n",
      " block1a_project_bn (BatchN  (None, 112, 112, 16)         64        ['block1a_project_conv[0][0]']\n",
      " ormalization)                                                                                    \n",
      "                                                                                                  \n",
      " block2a_expand_conv (Conv2  (None, 112, 112, 96)         1536      ['block1a_project_bn[0][0]']  \n",
      " D)                                                                                               \n",
      "                                                                                                  \n",
      " block2a_expand_bn (BatchNo  (None, 112, 112, 96)         384       ['block2a_expand_conv[0][0]'] \n",
      " rmalization)                                                                                     \n",
      "                                                                                                  \n",
      " block2a_expand_activation   (None, 112, 112, 96)         0         ['block2a_expand_bn[0][0]']   \n",
      " (Activation)                                                                                     \n",
      "                                                                                                  \n",
      " block2a_dwconv_pad (ZeroPa  (None, 113, 113, 96)         0         ['block2a_expand_activation[0]\n",
      " dding2D)                                                           [0]']                         \n",
      "                                                                                                  \n",
      " block2a_dwconv (DepthwiseC  (None, 56, 56, 96)           864       ['block2a_dwconv_pad[0][0]']  \n",
      " onv2D)                                                                                           \n",
      "                                                                                                  \n",
      " block2a_bn (BatchNormaliza  (None, 56, 56, 96)           384       ['block2a_dwconv[0][0]']      \n",
      " tion)                                                                                            \n",
      "                                                                                                  \n",
      " block2a_activation (Activa  (None, 56, 56, 96)           0         ['block2a_bn[0][0]']          \n",
      " tion)                                                                                            \n",
      "                                                                                                  \n",
      " block2a_se_squeeze (Global  (None, 96)                   0         ['block2a_activation[0][0]']  \n",
      " AveragePooling2D)                                                                                \n",
      "                                                                                                  \n",
      " block2a_se_reshape (Reshap  (None, 1, 1, 96)             0         ['block2a_se_squeeze[0][0]']  \n",
      " e)                                                                                               \n",
      "                                                                                                  \n",
      " block2a_se_reduce (Conv2D)  (None, 1, 1, 4)              388       ['block2a_se_reshape[0][0]']  \n",
      "                                                                                                  \n",
      " block2a_se_expand (Conv2D)  (None, 1, 1, 96)             480       ['block2a_se_reduce[0][0]']   \n"
     ]
    },
    {
     "name": "stdout",
     "output_type": "stream",
     "text": [
      "                                                                                                  \n",
      " block2a_se_excite (Multipl  (None, 56, 56, 96)           0         ['block2a_activation[0][0]',  \n",
      " y)                                                                  'block2a_se_expand[0][0]']   \n",
      "                                                                                                  \n",
      " block2a_project_conv (Conv  (None, 56, 56, 24)           2304      ['block2a_se_excite[0][0]']   \n",
      " 2D)                                                                                              \n",
      "                                                                                                  \n",
      " block2a_project_bn (BatchN  (None, 56, 56, 24)           96        ['block2a_project_conv[0][0]']\n",
      " ormalization)                                                                                    \n",
      "                                                                                                  \n",
      " block2b_expand_conv (Conv2  (None, 56, 56, 144)          3456      ['block2a_project_bn[0][0]']  \n",
      " D)                                                                                               \n",
      "                                                                                                  \n",
      " block2b_expand_bn (BatchNo  (None, 56, 56, 144)          576       ['block2b_expand_conv[0][0]'] \n",
      " rmalization)                                                                                     \n",
      "                                                                                                  \n",
      " block2b_expand_activation   (None, 56, 56, 144)          0         ['block2b_expand_bn[0][0]']   \n",
      " (Activation)                                                                                     \n",
      "                                                                                                  \n",
      " block2b_dwconv (DepthwiseC  (None, 56, 56, 144)          1296      ['block2b_expand_activation[0]\n",
      " onv2D)                                                             [0]']                         \n",
      "                                                                                                  \n",
      " block2b_bn (BatchNormaliza  (None, 56, 56, 144)          576       ['block2b_dwconv[0][0]']      \n",
      " tion)                                                                                            \n",
      "                                                                                                  \n",
      " block2b_activation (Activa  (None, 56, 56, 144)          0         ['block2b_bn[0][0]']          \n",
      " tion)                                                                                            \n",
      "                                                                                                  \n",
      " block2b_se_squeeze (Global  (None, 144)                  0         ['block2b_activation[0][0]']  \n",
      " AveragePooling2D)                                                                                \n",
      "                                                                                                  \n",
      " block2b_se_reshape (Reshap  (None, 1, 1, 144)            0         ['block2b_se_squeeze[0][0]']  \n",
      " e)                                                                                               \n",
      "                                                                                                  \n",
      " block2b_se_reduce (Conv2D)  (None, 1, 1, 6)              870       ['block2b_se_reshape[0][0]']  \n",
      "                                                                                                  \n",
      " block2b_se_expand (Conv2D)  (None, 1, 1, 144)            1008      ['block2b_se_reduce[0][0]']   \n",
      "                                                                                                  \n",
      " block2b_se_excite (Multipl  (None, 56, 56, 144)          0         ['block2b_activation[0][0]',  \n",
      " y)                                                                  'block2b_se_expand[0][0]']   \n",
      "                                                                                                  \n",
      " block2b_project_conv (Conv  (None, 56, 56, 24)           3456      ['block2b_se_excite[0][0]']   \n",
      " 2D)                                                                                              \n",
      "                                                                                                  \n",
      " block2b_project_bn (BatchN  (None, 56, 56, 24)           96        ['block2b_project_conv[0][0]']\n",
      " ormalization)                                                                                    \n",
      "                                                                                                  \n",
      " block2b_drop (Dropout)      (None, 56, 56, 24)           0         ['block2b_project_bn[0][0]']  \n",
      "                                                                                                  \n",
      " block2b_add (Add)           (None, 56, 56, 24)           0         ['block2b_drop[0][0]',        \n",
      "                                                                     'block2a_project_bn[0][0]']  \n",
      "                                                                                                  \n",
      " block3a_expand_conv (Conv2  (None, 56, 56, 144)          3456      ['block2b_add[0][0]']         \n",
      " D)                                                                                               \n",
      "                                                                                                  \n",
      " block3a_expand_bn (BatchNo  (None, 56, 56, 144)          576       ['block3a_expand_conv[0][0]'] \n",
      " rmalization)                                                                                     \n",
      "                                                                                                  \n",
      " block3a_expand_activation   (None, 56, 56, 144)          0         ['block3a_expand_bn[0][0]']   \n",
      " (Activation)                                                                                     \n",
      "                                                                                                  \n",
      " block3a_dwconv_pad (ZeroPa  (None, 59, 59, 144)          0         ['block3a_expand_activation[0]\n",
      " dding2D)                                                           [0]']                         \n",
      "                                                                                                  \n",
      " block3a_dwconv (DepthwiseC  (None, 28, 28, 144)          3600      ['block3a_dwconv_pad[0][0]']  \n",
      " onv2D)                                                                                           \n",
      "                                                                                                  \n",
      " block3a_bn (BatchNormaliza  (None, 28, 28, 144)          576       ['block3a_dwconv[0][0]']      \n",
      " tion)                                                                                            \n",
      "                                                                                                  \n",
      " block3a_activation (Activa  (None, 28, 28, 144)          0         ['block3a_bn[0][0]']          \n",
      " tion)                                                                                            \n",
      "                                                                                                  \n",
      " block3a_se_squeeze (Global  (None, 144)                  0         ['block3a_activation[0][0]']  \n",
      " AveragePooling2D)                                                                                \n",
      "                                                                                                  \n",
      " block3a_se_reshape (Reshap  (None, 1, 1, 144)            0         ['block3a_se_squeeze[0][0]']  \n",
      " e)                                                                                               \n",
      "                                                                                                  \n",
      " block3a_se_reduce (Conv2D)  (None, 1, 1, 6)              870       ['block3a_se_reshape[0][0]']  \n",
      "                                                                                                  \n",
      " block3a_se_expand (Conv2D)  (None, 1, 1, 144)            1008      ['block3a_se_reduce[0][0]']   \n",
      "                                                                                                  \n"
     ]
    },
    {
     "name": "stdout",
     "output_type": "stream",
     "text": [
      " block3a_se_excite (Multipl  (None, 28, 28, 144)          0         ['block3a_activation[0][0]',  \n",
      " y)                                                                  'block3a_se_expand[0][0]']   \n",
      "                                                                                                  \n",
      " block3a_project_conv (Conv  (None, 28, 28, 40)           5760      ['block3a_se_excite[0][0]']   \n",
      " 2D)                                                                                              \n",
      "                                                                                                  \n",
      " block3a_project_bn (BatchN  (None, 28, 28, 40)           160       ['block3a_project_conv[0][0]']\n",
      " ormalization)                                                                                    \n",
      "                                                                                                  \n",
      " block3b_expand_conv (Conv2  (None, 28, 28, 240)          9600      ['block3a_project_bn[0][0]']  \n",
      " D)                                                                                               \n",
      "                                                                                                  \n",
      " block3b_expand_bn (BatchNo  (None, 28, 28, 240)          960       ['block3b_expand_conv[0][0]'] \n",
      " rmalization)                                                                                     \n",
      "                                                                                                  \n",
      " block3b_expand_activation   (None, 28, 28, 240)          0         ['block3b_expand_bn[0][0]']   \n",
      " (Activation)                                                                                     \n",
      "                                                                                                  \n",
      " block3b_dwconv (DepthwiseC  (None, 28, 28, 240)          6000      ['block3b_expand_activation[0]\n",
      " onv2D)                                                             [0]']                         \n",
      "                                                                                                  \n",
      " block3b_bn (BatchNormaliza  (None, 28, 28, 240)          960       ['block3b_dwconv[0][0]']      \n",
      " tion)                                                                                            \n",
      "                                                                                                  \n",
      " block3b_activation (Activa  (None, 28, 28, 240)          0         ['block3b_bn[0][0]']          \n",
      " tion)                                                                                            \n",
      "                                                                                                  \n",
      " block3b_se_squeeze (Global  (None, 240)                  0         ['block3b_activation[0][0]']  \n",
      " AveragePooling2D)                                                                                \n",
      "                                                                                                  \n",
      " block3b_se_reshape (Reshap  (None, 1, 1, 240)            0         ['block3b_se_squeeze[0][0]']  \n",
      " e)                                                                                               \n",
      "                                                                                                  \n",
      " block3b_se_reduce (Conv2D)  (None, 1, 1, 10)             2410      ['block3b_se_reshape[0][0]']  \n",
      "                                                                                                  \n",
      " block3b_se_expand (Conv2D)  (None, 1, 1, 240)            2640      ['block3b_se_reduce[0][0]']   \n",
      "                                                                                                  \n",
      " block3b_se_excite (Multipl  (None, 28, 28, 240)          0         ['block3b_activation[0][0]',  \n",
      " y)                                                                  'block3b_se_expand[0][0]']   \n",
      "                                                                                                  \n",
      " block3b_project_conv (Conv  (None, 28, 28, 40)           9600      ['block3b_se_excite[0][0]']   \n",
      " 2D)                                                                                              \n",
      "                                                                                                  \n",
      " block3b_project_bn (BatchN  (None, 28, 28, 40)           160       ['block3b_project_conv[0][0]']\n",
      " ormalization)                                                                                    \n",
      "                                                                                                  \n",
      " block3b_drop (Dropout)      (None, 28, 28, 40)           0         ['block3b_project_bn[0][0]']  \n",
      "                                                                                                  \n",
      " block3b_add (Add)           (None, 28, 28, 40)           0         ['block3b_drop[0][0]',        \n",
      "                                                                     'block3a_project_bn[0][0]']  \n",
      "                                                                                                  \n",
      " block4a_expand_conv (Conv2  (None, 28, 28, 240)          9600      ['block3b_add[0][0]']         \n",
      " D)                                                                                               \n",
      "                                                                                                  \n",
      " block4a_expand_bn (BatchNo  (None, 28, 28, 240)          960       ['block4a_expand_conv[0][0]'] \n",
      " rmalization)                                                                                     \n",
      "                                                                                                  \n",
      " block4a_expand_activation   (None, 28, 28, 240)          0         ['block4a_expand_bn[0][0]']   \n",
      " (Activation)                                                                                     \n",
      "                                                                                                  \n",
      " block4a_dwconv_pad (ZeroPa  (None, 29, 29, 240)          0         ['block4a_expand_activation[0]\n",
      " dding2D)                                                           [0]']                         \n",
      "                                                                                                  \n",
      " block4a_dwconv (DepthwiseC  (None, 14, 14, 240)          2160      ['block4a_dwconv_pad[0][0]']  \n",
      " onv2D)                                                                                           \n",
      "                                                                                                  \n",
      " block4a_bn (BatchNormaliza  (None, 14, 14, 240)          960       ['block4a_dwconv[0][0]']      \n",
      " tion)                                                                                            \n",
      "                                                                                                  \n",
      " block4a_activation (Activa  (None, 14, 14, 240)          0         ['block4a_bn[0][0]']          \n",
      " tion)                                                                                            \n",
      "                                                                                                  \n",
      " block4a_se_squeeze (Global  (None, 240)                  0         ['block4a_activation[0][0]']  \n",
      " AveragePooling2D)                                                                                \n",
      "                                                                                                  \n",
      " block4a_se_reshape (Reshap  (None, 1, 1, 240)            0         ['block4a_se_squeeze[0][0]']  \n",
      " e)                                                                                               \n",
      "                                                                                                  \n",
      " block4a_se_reduce (Conv2D)  (None, 1, 1, 10)             2410      ['block4a_se_reshape[0][0]']  \n",
      "                                                                                                  \n",
      " block4a_se_expand (Conv2D)  (None, 1, 1, 240)            2640      ['block4a_se_reduce[0][0]']   \n",
      "                                                                                                  \n",
      " block4a_se_excite (Multipl  (None, 14, 14, 240)          0         ['block4a_activation[0][0]',  \n"
     ]
    },
    {
     "name": "stdout",
     "output_type": "stream",
     "text": [
      " y)                                                                  'block4a_se_expand[0][0]']   \n",
      "                                                                                                  \n",
      " block4a_project_conv (Conv  (None, 14, 14, 80)           19200     ['block4a_se_excite[0][0]']   \n",
      " 2D)                                                                                              \n",
      "                                                                                                  \n",
      " block4a_project_bn (BatchN  (None, 14, 14, 80)           320       ['block4a_project_conv[0][0]']\n",
      " ormalization)                                                                                    \n",
      "                                                                                                  \n",
      " block4b_expand_conv (Conv2  (None, 14, 14, 480)          38400     ['block4a_project_bn[0][0]']  \n",
      " D)                                                                                               \n",
      "                                                                                                  \n",
      " block4b_expand_bn (BatchNo  (None, 14, 14, 480)          1920      ['block4b_expand_conv[0][0]'] \n",
      " rmalization)                                                                                     \n",
      "                                                                                                  \n",
      " block4b_expand_activation   (None, 14, 14, 480)          0         ['block4b_expand_bn[0][0]']   \n",
      " (Activation)                                                                                     \n",
      "                                                                                                  \n",
      " block4b_dwconv (DepthwiseC  (None, 14, 14, 480)          4320      ['block4b_expand_activation[0]\n",
      " onv2D)                                                             [0]']                         \n",
      "                                                                                                  \n",
      " block4b_bn (BatchNormaliza  (None, 14, 14, 480)          1920      ['block4b_dwconv[0][0]']      \n",
      " tion)                                                                                            \n",
      "                                                                                                  \n",
      " block4b_activation (Activa  (None, 14, 14, 480)          0         ['block4b_bn[0][0]']          \n",
      " tion)                                                                                            \n",
      "                                                                                                  \n",
      " block4b_se_squeeze (Global  (None, 480)                  0         ['block4b_activation[0][0]']  \n",
      " AveragePooling2D)                                                                                \n",
      "                                                                                                  \n",
      " block4b_se_reshape (Reshap  (None, 1, 1, 480)            0         ['block4b_se_squeeze[0][0]']  \n",
      " e)                                                                                               \n",
      "                                                                                                  \n",
      " block4b_se_reduce (Conv2D)  (None, 1, 1, 20)             9620      ['block4b_se_reshape[0][0]']  \n",
      "                                                                                                  \n",
      " block4b_se_expand (Conv2D)  (None, 1, 1, 480)            10080     ['block4b_se_reduce[0][0]']   \n",
      "                                                                                                  \n",
      " block4b_se_excite (Multipl  (None, 14, 14, 480)          0         ['block4b_activation[0][0]',  \n",
      " y)                                                                  'block4b_se_expand[0][0]']   \n",
      "                                                                                                  \n",
      " block4b_project_conv (Conv  (None, 14, 14, 80)           38400     ['block4b_se_excite[0][0]']   \n",
      " 2D)                                                                                              \n",
      "                                                                                                  \n",
      " block4b_project_bn (BatchN  (None, 14, 14, 80)           320       ['block4b_project_conv[0][0]']\n",
      " ormalization)                                                                                    \n",
      "                                                                                                  \n",
      " block4b_drop (Dropout)      (None, 14, 14, 80)           0         ['block4b_project_bn[0][0]']  \n",
      "                                                                                                  \n",
      " block4b_add (Add)           (None, 14, 14, 80)           0         ['block4b_drop[0][0]',        \n",
      "                                                                     'block4a_project_bn[0][0]']  \n",
      "                                                                                                  \n",
      " block4c_expand_conv (Conv2  (None, 14, 14, 480)          38400     ['block4b_add[0][0]']         \n",
      " D)                                                                                               \n",
      "                                                                                                  \n",
      " block4c_expand_bn (BatchNo  (None, 14, 14, 480)          1920      ['block4c_expand_conv[0][0]'] \n",
      " rmalization)                                                                                     \n",
      "                                                                                                  \n",
      " block4c_expand_activation   (None, 14, 14, 480)          0         ['block4c_expand_bn[0][0]']   \n",
      " (Activation)                                                                                     \n",
      "                                                                                                  \n",
      " block4c_dwconv (DepthwiseC  (None, 14, 14, 480)          4320      ['block4c_expand_activation[0]\n",
      " onv2D)                                                             [0]']                         \n",
      "                                                                                                  \n",
      " block4c_bn (BatchNormaliza  (None, 14, 14, 480)          1920      ['block4c_dwconv[0][0]']      \n",
      " tion)                                                                                            \n",
      "                                                                                                  \n",
      " block4c_activation (Activa  (None, 14, 14, 480)          0         ['block4c_bn[0][0]']          \n",
      " tion)                                                                                            \n",
      "                                                                                                  \n",
      " block4c_se_squeeze (Global  (None, 480)                  0         ['block4c_activation[0][0]']  \n",
      " AveragePooling2D)                                                                                \n",
      "                                                                                                  \n",
      " block4c_se_reshape (Reshap  (None, 1, 1, 480)            0         ['block4c_se_squeeze[0][0]']  \n",
      " e)                                                                                               \n",
      "                                                                                                  \n",
      " block4c_se_reduce (Conv2D)  (None, 1, 1, 20)             9620      ['block4c_se_reshape[0][0]']  \n",
      "                                                                                                  \n",
      " block4c_se_expand (Conv2D)  (None, 1, 1, 480)            10080     ['block4c_se_reduce[0][0]']   \n",
      "                                                                                                  \n",
      " block4c_se_excite (Multipl  (None, 14, 14, 480)          0         ['block4c_activation[0][0]',  \n",
      " y)                                                                  'block4c_se_expand[0][0]']   \n",
      "                                                                                                  \n",
      " block4c_project_conv (Conv  (None, 14, 14, 80)           38400     ['block4c_se_excite[0][0]']   \n",
      " 2D)                                                                                              \n"
     ]
    },
    {
     "name": "stdout",
     "output_type": "stream",
     "text": [
      "                                                                                                  \n",
      " block4c_project_bn (BatchN  (None, 14, 14, 80)           320       ['block4c_project_conv[0][0]']\n",
      " ormalization)                                                                                    \n",
      "                                                                                                  \n",
      " block4c_drop (Dropout)      (None, 14, 14, 80)           0         ['block4c_project_bn[0][0]']  \n",
      "                                                                                                  \n",
      " block4c_add (Add)           (None, 14, 14, 80)           0         ['block4c_drop[0][0]',        \n",
      "                                                                     'block4b_add[0][0]']         \n",
      "                                                                                                  \n",
      " block5a_expand_conv (Conv2  (None, 14, 14, 480)          38400     ['block4c_add[0][0]']         \n",
      " D)                                                                                               \n",
      "                                                                                                  \n",
      " block5a_expand_bn (BatchNo  (None, 14, 14, 480)          1920      ['block5a_expand_conv[0][0]'] \n",
      " rmalization)                                                                                     \n",
      "                                                                                                  \n",
      " block5a_expand_activation   (None, 14, 14, 480)          0         ['block5a_expand_bn[0][0]']   \n",
      " (Activation)                                                                                     \n",
      "                                                                                                  \n",
      " block5a_dwconv (DepthwiseC  (None, 14, 14, 480)          12000     ['block5a_expand_activation[0]\n",
      " onv2D)                                                             [0]']                         \n",
      "                                                                                                  \n",
      " block5a_bn (BatchNormaliza  (None, 14, 14, 480)          1920      ['block5a_dwconv[0][0]']      \n",
      " tion)                                                                                            \n",
      "                                                                                                  \n",
      " block5a_activation (Activa  (None, 14, 14, 480)          0         ['block5a_bn[0][0]']          \n",
      " tion)                                                                                            \n",
      "                                                                                                  \n",
      " block5a_se_squeeze (Global  (None, 480)                  0         ['block5a_activation[0][0]']  \n",
      " AveragePooling2D)                                                                                \n",
      "                                                                                                  \n",
      " block5a_se_reshape (Reshap  (None, 1, 1, 480)            0         ['block5a_se_squeeze[0][0]']  \n",
      " e)                                                                                               \n",
      "                                                                                                  \n",
      " block5a_se_reduce (Conv2D)  (None, 1, 1, 20)             9620      ['block5a_se_reshape[0][0]']  \n",
      "                                                                                                  \n",
      " block5a_se_expand (Conv2D)  (None, 1, 1, 480)            10080     ['block5a_se_reduce[0][0]']   \n",
      "                                                                                                  \n",
      " block5a_se_excite (Multipl  (None, 14, 14, 480)          0         ['block5a_activation[0][0]',  \n",
      " y)                                                                  'block5a_se_expand[0][0]']   \n",
      "                                                                                                  \n",
      " block5a_project_conv (Conv  (None, 14, 14, 112)          53760     ['block5a_se_excite[0][0]']   \n",
      " 2D)                                                                                              \n",
      "                                                                                                  \n",
      " block5a_project_bn (BatchN  (None, 14, 14, 112)          448       ['block5a_project_conv[0][0]']\n",
      " ormalization)                                                                                    \n",
      "                                                                                                  \n",
      " block5b_expand_conv (Conv2  (None, 14, 14, 672)          75264     ['block5a_project_bn[0][0]']  \n",
      " D)                                                                                               \n",
      "                                                                                                  \n",
      " block5b_expand_bn (BatchNo  (None, 14, 14, 672)          2688      ['block5b_expand_conv[0][0]'] \n",
      " rmalization)                                                                                     \n",
      "                                                                                                  \n",
      " block5b_expand_activation   (None, 14, 14, 672)          0         ['block5b_expand_bn[0][0]']   \n",
      " (Activation)                                                                                     \n",
      "                                                                                                  \n",
      " block5b_dwconv (DepthwiseC  (None, 14, 14, 672)          16800     ['block5b_expand_activation[0]\n",
      " onv2D)                                                             [0]']                         \n",
      "                                                                                                  \n",
      " block5b_bn (BatchNormaliza  (None, 14, 14, 672)          2688      ['block5b_dwconv[0][0]']      \n",
      " tion)                                                                                            \n",
      "                                                                                                  \n",
      " block5b_activation (Activa  (None, 14, 14, 672)          0         ['block5b_bn[0][0]']          \n",
      " tion)                                                                                            \n",
      "                                                                                                  \n",
      " block5b_se_squeeze (Global  (None, 672)                  0         ['block5b_activation[0][0]']  \n",
      " AveragePooling2D)                                                                                \n",
      "                                                                                                  \n",
      " block5b_se_reshape (Reshap  (None, 1, 1, 672)            0         ['block5b_se_squeeze[0][0]']  \n",
      " e)                                                                                               \n",
      "                                                                                                  \n",
      " block5b_se_reduce (Conv2D)  (None, 1, 1, 28)             18844     ['block5b_se_reshape[0][0]']  \n",
      "                                                                                                  \n",
      " block5b_se_expand (Conv2D)  (None, 1, 1, 672)            19488     ['block5b_se_reduce[0][0]']   \n",
      "                                                                                                  \n",
      " block5b_se_excite (Multipl  (None, 14, 14, 672)          0         ['block5b_activation[0][0]',  \n",
      " y)                                                                  'block5b_se_expand[0][0]']   \n",
      "                                                                                                  \n",
      " block5b_project_conv (Conv  (None, 14, 14, 112)          75264     ['block5b_se_excite[0][0]']   \n",
      " 2D)                                                                                              \n",
      "                                                                                                  \n",
      " block5b_project_bn (BatchN  (None, 14, 14, 112)          448       ['block5b_project_conv[0][0]']\n",
      " ormalization)                                                                                    \n",
      "                                                                                                  \n"
     ]
    },
    {
     "name": "stdout",
     "output_type": "stream",
     "text": [
      " block5b_drop (Dropout)      (None, 14, 14, 112)          0         ['block5b_project_bn[0][0]']  \n",
      "                                                                                                  \n",
      " block5b_add (Add)           (None, 14, 14, 112)          0         ['block5b_drop[0][0]',        \n",
      "                                                                     'block5a_project_bn[0][0]']  \n",
      "                                                                                                  \n",
      " block5c_expand_conv (Conv2  (None, 14, 14, 672)          75264     ['block5b_add[0][0]']         \n",
      " D)                                                                                               \n",
      "                                                                                                  \n",
      " block5c_expand_bn (BatchNo  (None, 14, 14, 672)          2688      ['block5c_expand_conv[0][0]'] \n",
      " rmalization)                                                                                     \n",
      "                                                                                                  \n",
      " block5c_expand_activation   (None, 14, 14, 672)          0         ['block5c_expand_bn[0][0]']   \n",
      " (Activation)                                                                                     \n",
      "                                                                                                  \n",
      " block5c_dwconv (DepthwiseC  (None, 14, 14, 672)          16800     ['block5c_expand_activation[0]\n",
      " onv2D)                                                             [0]']                         \n",
      "                                                                                                  \n",
      " block5c_bn (BatchNormaliza  (None, 14, 14, 672)          2688      ['block5c_dwconv[0][0]']      \n",
      " tion)                                                                                            \n",
      "                                                                                                  \n",
      " block5c_activation (Activa  (None, 14, 14, 672)          0         ['block5c_bn[0][0]']          \n",
      " tion)                                                                                            \n",
      "                                                                                                  \n",
      " block5c_se_squeeze (Global  (None, 672)                  0         ['block5c_activation[0][0]']  \n",
      " AveragePooling2D)                                                                                \n",
      "                                                                                                  \n",
      " block5c_se_reshape (Reshap  (None, 1, 1, 672)            0         ['block5c_se_squeeze[0][0]']  \n",
      " e)                                                                                               \n",
      "                                                                                                  \n",
      " block5c_se_reduce (Conv2D)  (None, 1, 1, 28)             18844     ['block5c_se_reshape[0][0]']  \n",
      "                                                                                                  \n",
      " block5c_se_expand (Conv2D)  (None, 1, 1, 672)            19488     ['block5c_se_reduce[0][0]']   \n",
      "                                                                                                  \n",
      " block5c_se_excite (Multipl  (None, 14, 14, 672)          0         ['block5c_activation[0][0]',  \n",
      " y)                                                                  'block5c_se_expand[0][0]']   \n",
      "                                                                                                  \n",
      " block5c_project_conv (Conv  (None, 14, 14, 112)          75264     ['block5c_se_excite[0][0]']   \n",
      " 2D)                                                                                              \n",
      "                                                                                                  \n",
      " block5c_project_bn (BatchN  (None, 14, 14, 112)          448       ['block5c_project_conv[0][0]']\n",
      " ormalization)                                                                                    \n",
      "                                                                                                  \n",
      " block5c_drop (Dropout)      (None, 14, 14, 112)          0         ['block5c_project_bn[0][0]']  \n",
      "                                                                                                  \n",
      " block5c_add (Add)           (None, 14, 14, 112)          0         ['block5c_drop[0][0]',        \n",
      "                                                                     'block5b_add[0][0]']         \n",
      "                                                                                                  \n",
      " block6a_expand_conv (Conv2  (None, 14, 14, 672)          75264     ['block5c_add[0][0]']         \n",
      " D)                                                                                               \n",
      "                                                                                                  \n",
      " block6a_expand_bn (BatchNo  (None, 14, 14, 672)          2688      ['block6a_expand_conv[0][0]'] \n",
      " rmalization)                                                                                     \n",
      "                                                                                                  \n",
      " block6a_expand_activation   (None, 14, 14, 672)          0         ['block6a_expand_bn[0][0]']   \n",
      " (Activation)                                                                                     \n",
      "                                                                                                  \n",
      " block6a_dwconv_pad (ZeroPa  (None, 17, 17, 672)          0         ['block6a_expand_activation[0]\n",
      " dding2D)                                                           [0]']                         \n",
      "                                                                                                  \n",
      " block6a_dwconv (DepthwiseC  (None, 7, 7, 672)            16800     ['block6a_dwconv_pad[0][0]']  \n",
      " onv2D)                                                                                           \n",
      "                                                                                                  \n",
      " block6a_bn (BatchNormaliza  (None, 7, 7, 672)            2688      ['block6a_dwconv[0][0]']      \n",
      " tion)                                                                                            \n",
      "                                                                                                  \n",
      " block6a_activation (Activa  (None, 7, 7, 672)            0         ['block6a_bn[0][0]']          \n",
      " tion)                                                                                            \n",
      "                                                                                                  \n",
      " block6a_se_squeeze (Global  (None, 672)                  0         ['block6a_activation[0][0]']  \n",
      " AveragePooling2D)                                                                                \n",
      "                                                                                                  \n",
      " block6a_se_reshape (Reshap  (None, 1, 1, 672)            0         ['block6a_se_squeeze[0][0]']  \n",
      " e)                                                                                               \n",
      "                                                                                                  \n",
      " block6a_se_reduce (Conv2D)  (None, 1, 1, 28)             18844     ['block6a_se_reshape[0][0]']  \n",
      "                                                                                                  \n",
      " block6a_se_expand (Conv2D)  (None, 1, 1, 672)            19488     ['block6a_se_reduce[0][0]']   \n",
      "                                                                                                  \n",
      " block6a_se_excite (Multipl  (None, 7, 7, 672)            0         ['block6a_activation[0][0]',  \n",
      " y)                                                                  'block6a_se_expand[0][0]']   \n",
      "                                                                                                  \n",
      " block6a_project_conv (Conv  (None, 7, 7, 192)            129024    ['block6a_se_excite[0][0]']   \n",
      " 2D)                                                                                              \n"
     ]
    },
    {
     "name": "stdout",
     "output_type": "stream",
     "text": [
      "                                                                                                  \n",
      " block6a_project_bn (BatchN  (None, 7, 7, 192)            768       ['block6a_project_conv[0][0]']\n",
      " ormalization)                                                                                    \n",
      "                                                                                                  \n",
      " block6b_expand_conv (Conv2  (None, 7, 7, 1152)           221184    ['block6a_project_bn[0][0]']  \n",
      " D)                                                                                               \n",
      "                                                                                                  \n",
      " block6b_expand_bn (BatchNo  (None, 7, 7, 1152)           4608      ['block6b_expand_conv[0][0]'] \n",
      " rmalization)                                                                                     \n",
      "                                                                                                  \n",
      " block6b_expand_activation   (None, 7, 7, 1152)           0         ['block6b_expand_bn[0][0]']   \n",
      " (Activation)                                                                                     \n",
      "                                                                                                  \n",
      " block6b_dwconv (DepthwiseC  (None, 7, 7, 1152)           28800     ['block6b_expand_activation[0]\n",
      " onv2D)                                                             [0]']                         \n",
      "                                                                                                  \n",
      " block6b_bn (BatchNormaliza  (None, 7, 7, 1152)           4608      ['block6b_dwconv[0][0]']      \n",
      " tion)                                                                                            \n",
      "                                                                                                  \n",
      " block6b_activation (Activa  (None, 7, 7, 1152)           0         ['block6b_bn[0][0]']          \n",
      " tion)                                                                                            \n",
      "                                                                                                  \n",
      " block6b_se_squeeze (Global  (None, 1152)                 0         ['block6b_activation[0][0]']  \n",
      " AveragePooling2D)                                                                                \n",
      "                                                                                                  \n",
      " block6b_se_reshape (Reshap  (None, 1, 1, 1152)           0         ['block6b_se_squeeze[0][0]']  \n",
      " e)                                                                                               \n",
      "                                                                                                  \n",
      " block6b_se_reduce (Conv2D)  (None, 1, 1, 48)             55344     ['block6b_se_reshape[0][0]']  \n",
      "                                                                                                  \n",
      " block6b_se_expand (Conv2D)  (None, 1, 1, 1152)           56448     ['block6b_se_reduce[0][0]']   \n",
      "                                                                                                  \n",
      " block6b_se_excite (Multipl  (None, 7, 7, 1152)           0         ['block6b_activation[0][0]',  \n",
      " y)                                                                  'block6b_se_expand[0][0]']   \n",
      "                                                                                                  \n",
      " block6b_project_conv (Conv  (None, 7, 7, 192)            221184    ['block6b_se_excite[0][0]']   \n",
      " 2D)                                                                                              \n",
      "                                                                                                  \n",
      " block6b_project_bn (BatchN  (None, 7, 7, 192)            768       ['block6b_project_conv[0][0]']\n",
      " ormalization)                                                                                    \n",
      "                                                                                                  \n",
      " block6b_drop (Dropout)      (None, 7, 7, 192)            0         ['block6b_project_bn[0][0]']  \n",
      "                                                                                                  \n",
      " block6b_add (Add)           (None, 7, 7, 192)            0         ['block6b_drop[0][0]',        \n",
      "                                                                     'block6a_project_bn[0][0]']  \n",
      "                                                                                                  \n",
      " block6c_expand_conv (Conv2  (None, 7, 7, 1152)           221184    ['block6b_add[0][0]']         \n",
      " D)                                                                                               \n",
      "                                                                                                  \n",
      " block6c_expand_bn (BatchNo  (None, 7, 7, 1152)           4608      ['block6c_expand_conv[0][0]'] \n",
      " rmalization)                                                                                     \n",
      "                                                                                                  \n",
      " block6c_expand_activation   (None, 7, 7, 1152)           0         ['block6c_expand_bn[0][0]']   \n",
      " (Activation)                                                                                     \n",
      "                                                                                                  \n",
      " block6c_dwconv (DepthwiseC  (None, 7, 7, 1152)           28800     ['block6c_expand_activation[0]\n",
      " onv2D)                                                             [0]']                         \n",
      "                                                                                                  \n",
      " block6c_bn (BatchNormaliza  (None, 7, 7, 1152)           4608      ['block6c_dwconv[0][0]']      \n",
      " tion)                                                                                            \n",
      "                                                                                                  \n",
      " block6c_activation (Activa  (None, 7, 7, 1152)           0         ['block6c_bn[0][0]']          \n",
      " tion)                                                                                            \n",
      "                                                                                                  \n",
      " block6c_se_squeeze (Global  (None, 1152)                 0         ['block6c_activation[0][0]']  \n",
      " AveragePooling2D)                                                                                \n",
      "                                                                                                  \n",
      " block6c_se_reshape (Reshap  (None, 1, 1, 1152)           0         ['block6c_se_squeeze[0][0]']  \n",
      " e)                                                                                               \n",
      "                                                                                                  \n",
      " block6c_se_reduce (Conv2D)  (None, 1, 1, 48)             55344     ['block6c_se_reshape[0][0]']  \n",
      "                                                                                                  \n",
      " block6c_se_expand (Conv2D)  (None, 1, 1, 1152)           56448     ['block6c_se_reduce[0][0]']   \n",
      "                                                                                                  \n",
      " block6c_se_excite (Multipl  (None, 7, 7, 1152)           0         ['block6c_activation[0][0]',  \n",
      " y)                                                                  'block6c_se_expand[0][0]']   \n",
      "                                                                                                  \n",
      " block6c_project_conv (Conv  (None, 7, 7, 192)            221184    ['block6c_se_excite[0][0]']   \n",
      " 2D)                                                                                              \n",
      "                                                                                                  \n",
      " block6c_project_bn (BatchN  (None, 7, 7, 192)            768       ['block6c_project_conv[0][0]']\n",
      " ormalization)                                                                                    \n",
      "                                                                                                  \n"
     ]
    },
    {
     "name": "stdout",
     "output_type": "stream",
     "text": [
      " block6c_drop (Dropout)      (None, 7, 7, 192)            0         ['block6c_project_bn[0][0]']  \n",
      "                                                                                                  \n",
      " block6c_add (Add)           (None, 7, 7, 192)            0         ['block6c_drop[0][0]',        \n",
      "                                                                     'block6b_add[0][0]']         \n",
      "                                                                                                  \n",
      " block6d_expand_conv (Conv2  (None, 7, 7, 1152)           221184    ['block6c_add[0][0]']         \n",
      " D)                                                                                               \n",
      "                                                                                                  \n",
      " block6d_expand_bn (BatchNo  (None, 7, 7, 1152)           4608      ['block6d_expand_conv[0][0]'] \n",
      " rmalization)                                                                                     \n",
      "                                                                                                  \n",
      " block6d_expand_activation   (None, 7, 7, 1152)           0         ['block6d_expand_bn[0][0]']   \n",
      " (Activation)                                                                                     \n",
      "                                                                                                  \n",
      " block6d_dwconv (DepthwiseC  (None, 7, 7, 1152)           28800     ['block6d_expand_activation[0]\n",
      " onv2D)                                                             [0]']                         \n",
      "                                                                                                  \n",
      " block6d_bn (BatchNormaliza  (None, 7, 7, 1152)           4608      ['block6d_dwconv[0][0]']      \n",
      " tion)                                                                                            \n",
      "                                                                                                  \n",
      " block6d_activation (Activa  (None, 7, 7, 1152)           0         ['block6d_bn[0][0]']          \n",
      " tion)                                                                                            \n",
      "                                                                                                  \n",
      " block6d_se_squeeze (Global  (None, 1152)                 0         ['block6d_activation[0][0]']  \n",
      " AveragePooling2D)                                                                                \n",
      "                                                                                                  \n",
      " block6d_se_reshape (Reshap  (None, 1, 1, 1152)           0         ['block6d_se_squeeze[0][0]']  \n",
      " e)                                                                                               \n",
      "                                                                                                  \n",
      " block6d_se_reduce (Conv2D)  (None, 1, 1, 48)             55344     ['block6d_se_reshape[0][0]']  \n",
      "                                                                                                  \n",
      " block6d_se_expand (Conv2D)  (None, 1, 1, 1152)           56448     ['block6d_se_reduce[0][0]']   \n",
      "                                                                                                  \n",
      " block6d_se_excite (Multipl  (None, 7, 7, 1152)           0         ['block6d_activation[0][0]',  \n",
      " y)                                                                  'block6d_se_expand[0][0]']   \n",
      "                                                                                                  \n",
      " block6d_project_conv (Conv  (None, 7, 7, 192)            221184    ['block6d_se_excite[0][0]']   \n",
      " 2D)                                                                                              \n",
      "                                                                                                  \n",
      " block6d_project_bn (BatchN  (None, 7, 7, 192)            768       ['block6d_project_conv[0][0]']\n",
      " ormalization)                                                                                    \n",
      "                                                                                                  \n",
      " block6d_drop (Dropout)      (None, 7, 7, 192)            0         ['block6d_project_bn[0][0]']  \n",
      "                                                                                                  \n",
      " block6d_add (Add)           (None, 7, 7, 192)            0         ['block6d_drop[0][0]',        \n",
      "                                                                     'block6c_add[0][0]']         \n",
      "                                                                                                  \n",
      " block7a_expand_conv (Conv2  (None, 7, 7, 1152)           221184    ['block6d_add[0][0]']         \n",
      " D)                                                                                               \n",
      "                                                                                                  \n",
      " block7a_expand_bn (BatchNo  (None, 7, 7, 1152)           4608      ['block7a_expand_conv[0][0]'] \n",
      " rmalization)                                                                                     \n",
      "                                                                                                  \n",
      " block7a_expand_activation   (None, 7, 7, 1152)           0         ['block7a_expand_bn[0][0]']   \n",
      " (Activation)                                                                                     \n",
      "                                                                                                  \n",
      " block7a_dwconv (DepthwiseC  (None, 7, 7, 1152)           10368     ['block7a_expand_activation[0]\n",
      " onv2D)                                                             [0]']                         \n",
      "                                                                                                  \n",
      " block7a_bn (BatchNormaliza  (None, 7, 7, 1152)           4608      ['block7a_dwconv[0][0]']      \n",
      " tion)                                                                                            \n",
      "                                                                                                  \n",
      " block7a_activation (Activa  (None, 7, 7, 1152)           0         ['block7a_bn[0][0]']          \n",
      " tion)                                                                                            \n",
      "                                                                                                  \n",
      " block7a_se_squeeze (Global  (None, 1152)                 0         ['block7a_activation[0][0]']  \n",
      " AveragePooling2D)                                                                                \n",
      "                                                                                                  \n",
      " block7a_se_reshape (Reshap  (None, 1, 1, 1152)           0         ['block7a_se_squeeze[0][0]']  \n",
      " e)                                                                                               \n",
      "                                                                                                  \n",
      " block7a_se_reduce (Conv2D)  (None, 1, 1, 48)             55344     ['block7a_se_reshape[0][0]']  \n",
      "                                                                                                  \n",
      " block7a_se_expand (Conv2D)  (None, 1, 1, 1152)           56448     ['block7a_se_reduce[0][0]']   \n",
      "                                                                                                  \n",
      " block7a_se_excite (Multipl  (None, 7, 7, 1152)           0         ['block7a_activation[0][0]',  \n",
      " y)                                                                  'block7a_se_expand[0][0]']   \n",
      "                                                                                                  \n",
      " block7a_project_conv (Conv  (None, 7, 7, 320)            368640    ['block7a_se_excite[0][0]']   \n",
      " 2D)                                                                                              \n",
      "                                                                                                  \n",
      " block7a_project_bn (BatchN  (None, 7, 7, 320)            1280      ['block7a_project_conv[0][0]']\n",
      " ormalization)                                                                                    \n"
     ]
    },
    {
     "name": "stdout",
     "output_type": "stream",
     "text": [
      "                                                                                                  \n",
      " top_conv (Conv2D)           (None, 7, 7, 1280)           409600    ['block7a_project_bn[0][0]']  \n",
      "                                                                                                  \n",
      " top_bn (BatchNormalization  (None, 7, 7, 1280)           5120      ['top_conv[0][0]']            \n",
      " )                                                                                                \n",
      "                                                                                                  \n",
      " top_activation (Activation  (None, 7, 7, 1280)           0         ['top_bn[0][0]']              \n",
      " )                                                                                                \n",
      "                                                                                                  \n",
      " max_pool (GlobalMaxPooling  (None, 1280)                 0         ['top_activation[0][0]']      \n",
      " 2D)                                                                                              \n",
      "                                                                                                  \n",
      "==================================================================================================\n",
      "Total params: 4049571 (15.45 MB)\n",
      "Trainable params: 0 (0.00 Byte)\n",
      "Non-trainable params: 4049571 (15.45 MB)\n",
      "__________________________________________________________________________________________________\n"
     ]
    }
   ],
   "source": [
    "effnet = tf.keras.applications.efficientnet.EfficientNetB0(\n",
    "    input_shape=(RAW_IMAGE_HEIGHT, RAW_IMAGE_WIDTH, RAW_IMAGE_CHANNELS),\n",
    "    include_top=False,\n",
    "    weights='imagenet',\n",
    "    pooling='max'\n",
    ")\n",
    "effnet.trainable = False\n",
    "effnet.summary()"
   ]
  },
  {
   "cell_type": "markdown",
   "id": "de9f557b-ead1-44fd-99e9-65e6ef4156fd",
   "metadata": {},
   "source": [
    "We can retrain the ds_model with the same training data that the models in `optim.py` were trained with by freezing the layers common to all models to see how this larger model fairs with less data (25 images per class). This leaves about half of the parameters pretrained from EfficientNetB0 and another half that need to be trained."
   ]
  },
  {
   "cell_type": "code",
   "execution_count": 3,
   "id": "3ba6dc42-6433-485e-95ef-9fc19b3cec4f",
   "metadata": {},
   "outputs": [
    {
     "name": "stdout",
     "output_type": "stream",
     "text": [
      "Model: \"model\"\n",
      "__________________________________________________________________________________________________\n",
      " Layer (type)                Output Shape                 Param #   Connected to                  \n",
      "==================================================================================================\n",
      " input_1 (InputLayer)        [(None, 224, 224, 3)]        0         []                            \n",
      "                                                                                                  \n",
      " rescaling (Rescaling)       (None, 224, 224, 3)          0         ['input_1[0][0]']             \n",
      "                                                                                                  \n",
      " normalization (Normalizati  (None, 224, 224, 3)          0         ['rescaling[0][0]']           \n",
      " on)                                                                                              \n",
      "                                                                                                  \n",
      " stem_conv (Conv2D)          (None, 112, 112, 32)         864       ['normalization[0][0]']       \n",
      "                                                                                                  \n",
      " stem_bn (BatchNormalizatio  (None, 112, 112, 32)         128       ['stem_conv[0][0]']           \n",
      " n)                                                                                               \n",
      "                                                                                                  \n",
      " stem_activation (Activatio  (None, 112, 112, 32)         0         ['stem_bn[0][0]']             \n",
      " n)                                                                                               \n",
      "                                                                                                  \n",
      " block1a_project_conv (Conv  (None, 112, 112, 16)         4608      ['stem_activation[0][0]']     \n",
      " 2D)                                                                                              \n",
      "                                                                                                  \n",
      " block1a_project_bn (BatchN  (None, 112, 112, 16)         64        ['block1a_project_conv[0][0]']\n",
      " ormalization)                                                                                    \n",
      "                                                                                                  \n",
      " block1a_project_activation  (None, 112, 112, 16)         0         ['block1a_project_bn[0][0]']  \n",
      "  (Activation)                                                                                    \n",
      "                                                                                                  \n",
      " block2a_expand_conv (Conv2  (None, 56, 56, 64)           9216      ['block1a_project_activation[0\n",
      " D)                                                                 ][0]']                        \n",
      "                                                                                                  \n",
      " block2a_expand_bn (BatchNo  (None, 56, 56, 64)           256       ['block2a_expand_conv[0][0]'] \n",
      " rmalization)                                                                                     \n",
      "                                                                                                  \n",
      " block2a_expand_activation   (None, 56, 56, 64)           0         ['block2a_expand_bn[0][0]']   \n",
      " (Activation)                                                                                     \n",
      "                                                                                                  \n",
      " block2a_project_conv (Conv  (None, 56, 56, 32)           2048      ['block2a_expand_activation[0]\n",
      " 2D)                                                                [0]']                         \n",
      "                                                                                                  \n",
      " block2a_project_bn (BatchN  (None, 56, 56, 32)           128       ['block2a_project_conv[0][0]']\n",
      " ormalization)                                                                                    \n",
      "                                                                                                  \n",
      " block2b_expand_conv (Conv2  (None, 56, 56, 128)          36864     ['block2a_project_bn[0][0]']  \n",
      " D)                                                                                               \n",
      "                                                                                                  \n",
      " block2b_expand_bn (BatchNo  (None, 56, 56, 128)          512       ['block2b_expand_conv[0][0]'] \n",
      " rmalization)                                                                                     \n",
      "                                                                                                  \n",
      " block2b_expand_activation   (None, 56, 56, 128)          0         ['block2b_expand_bn[0][0]']   \n",
      " (Activation)                                                                                     \n",
      "                                                                                                  \n",
      " block2b_project_conv (Conv  (None, 56, 56, 32)           4096      ['block2b_expand_activation[0]\n",
      " 2D)                                                                [0]']                         \n",
      "                                                                                                  \n",
      " block2b_project_bn (BatchN  (None, 56, 56, 32)           128       ['block2b_project_conv[0][0]']\n",
      " ormalization)                                                                                    \n",
      "                                                                                                  \n",
      " block2b_add (Add)           (None, 56, 56, 32)           0         ['block2b_project_bn[0][0]',  \n",
      "                                                                     'block2a_project_bn[0][0]']  \n",
      "                                                                                                  \n",
      " block3a_expand_conv (Conv2  (None, 28, 28, 128)          36864     ['block2b_add[0][0]']         \n",
      " D)                                                                                               \n",
      "                                                                                                  \n",
      " block3a_expand_bn (BatchNo  (None, 28, 28, 128)          512       ['block3a_expand_conv[0][0]'] \n",
      " rmalization)                                                                                     \n",
      "                                                                                                  \n",
      " block3a_expand_activation   (None, 28, 28, 128)          0         ['block3a_expand_bn[0][0]']   \n",
      " (Activation)                                                                                     \n",
      "                                                                                                  \n",
      " block3a_project_conv (Conv  (None, 28, 28, 48)           6144      ['block3a_expand_activation[0]\n",
      " 2D)                                                                [0]']                         \n",
      "                                                                                                  \n",
      " block3a_project_bn (BatchN  (None, 28, 28, 48)           192       ['block3a_project_conv[0][0]']\n",
      " ormalization)                                                                                    \n",
      "                                                                                                  \n",
      " block3b_expand_conv (Conv2  (None, 28, 28, 192)          82944     ['block3a_project_bn[0][0]']  \n",
      " D)                                                                                               \n",
      "                                                                                                  \n",
      " block3b_expand_bn (BatchNo  (None, 28, 28, 192)          768       ['block3b_expand_conv[0][0]'] \n",
      " rmalization)                                                                                     \n",
      "                                                                                                  \n",
      " block3b_expand_activation   (None, 28, 28, 192)          0         ['block3b_expand_bn[0][0]']   \n",
      " (Activation)                                                                                     \n"
     ]
    },
    {
     "name": "stdout",
     "output_type": "stream",
     "text": [
      "                                                                                                  \n",
      " block3b_project_conv (Conv  (None, 28, 28, 48)           9216      ['block3b_expand_activation[0]\n",
      " 2D)                                                                [0]']                         \n",
      "                                                                                                  \n",
      " block3b_project_bn (BatchN  (None, 28, 28, 48)           192       ['block3b_project_conv[0][0]']\n",
      " ormalization)                                                                                    \n",
      "                                                                                                  \n",
      " block3b_add (Add)           (None, 28, 28, 48)           0         ['block3b_project_bn[0][0]',  \n",
      "                                                                     'block3a_project_bn[0][0]']  \n",
      "                                                                                                  \n",
      " block4a_expand_conv (Conv2  (None, 28, 28, 192)          9216      ['block3b_add[0][0]']         \n",
      " D)                                                                                               \n",
      "                                                                                                  \n",
      " block4a_expand_bn (BatchNo  (None, 28, 28, 192)          768       ['block4a_expand_conv[0][0]'] \n",
      " rmalization)                                                                                     \n",
      "                                                                                                  \n",
      " block4a_expand_activation   (None, 28, 28, 192)          0         ['block4a_expand_bn[0][0]']   \n",
      " (Activation)                                                                                     \n",
      "                                                                                                  \n",
      " block4a_dwconv2 (Depthwise  (None, 14, 14, 192)          1728      ['block4a_expand_activation[0]\n",
      " Conv2D)                                                            [0]']                         \n",
      "                                                                                                  \n",
      " block4a_bn (BatchNormaliza  (None, 14, 14, 192)          768       ['block4a_dwconv2[0][0]']     \n",
      " tion)                                                                                            \n",
      "                                                                                                  \n",
      " block4a_activation (Activa  (None, 14, 14, 192)          0         ['block4a_bn[0][0]']          \n",
      " tion)                                                                                            \n",
      "                                                                                                  \n",
      " block4a_se_squeeze (Global  (None, 192)                  0         ['block4a_activation[0][0]']  \n",
      " AveragePooling2D)                                                                                \n",
      "                                                                                                  \n",
      " block4a_se_reshape (Reshap  (None, 1, 1, 192)            0         ['block4a_se_squeeze[0][0]']  \n",
      " e)                                                                                               \n",
      "                                                                                                  \n",
      " block4a_se_reduce (Conv2D)  (None, 1, 1, 12)             2316      ['block4a_se_reshape[0][0]']  \n",
      "                                                                                                  \n",
      " block4a_se_expand (Conv2D)  (None, 1, 1, 192)            2496      ['block4a_se_reduce[0][0]']   \n",
      "                                                                                                  \n",
      " block4a_se_excite (Multipl  (None, 14, 14, 192)          0         ['block4a_activation[0][0]',  \n",
      " y)                                                                  'block4a_se_expand[0][0]']   \n",
      "                                                                                                  \n",
      " block4a_project_conv (Conv  (None, 14, 14, 96)           18432     ['block4a_se_excite[0][0]']   \n",
      " 2D)                                                                                              \n",
      "                                                                                                  \n",
      " block4a_project_bn (BatchN  (None, 14, 14, 96)           384       ['block4a_project_conv[0][0]']\n",
      " ormalization)                                                                                    \n",
      "                                                                                                  \n",
      " block4b_expand_conv (Conv2  (None, 14, 14, 384)          36864     ['block4a_project_bn[0][0]']  \n",
      " D)                                                                                               \n",
      "                                                                                                  \n",
      " block4b_expand_bn (BatchNo  (None, 14, 14, 384)          1536      ['block4b_expand_conv[0][0]'] \n",
      " rmalization)                                                                                     \n",
      "                                                                                                  \n",
      " block4b_expand_activation   (None, 14, 14, 384)          0         ['block4b_expand_bn[0][0]']   \n",
      " (Activation)                                                                                     \n",
      "                                                                                                  \n",
      " block4b_dwconv2 (Depthwise  (None, 14, 14, 384)          3456      ['block4b_expand_activation[0]\n",
      " Conv2D)                                                            [0]']                         \n",
      "                                                                                                  \n",
      " block4b_bn (BatchNormaliza  (None, 14, 14, 384)          1536      ['block4b_dwconv2[0][0]']     \n",
      " tion)                                                                                            \n",
      "                                                                                                  \n",
      " block4b_activation (Activa  (None, 14, 14, 384)          0         ['block4b_bn[0][0]']          \n",
      " tion)                                                                                            \n",
      "                                                                                                  \n",
      " block4b_se_squeeze (Global  (None, 384)                  0         ['block4b_activation[0][0]']  \n",
      " AveragePooling2D)                                                                                \n",
      "                                                                                                  \n",
      " block4b_se_reshape (Reshap  (None, 1, 1, 384)            0         ['block4b_se_squeeze[0][0]']  \n",
      " e)                                                                                               \n",
      "                                                                                                  \n",
      " block4b_se_reduce (Conv2D)  (None, 1, 1, 24)             9240      ['block4b_se_reshape[0][0]']  \n",
      "                                                                                                  \n",
      " block4b_se_expand (Conv2D)  (None, 1, 1, 384)            9600      ['block4b_se_reduce[0][0]']   \n",
      "                                                                                                  \n",
      " block4b_se_excite (Multipl  (None, 14, 14, 384)          0         ['block4b_activation[0][0]',  \n",
      " y)                                                                  'block4b_se_expand[0][0]']   \n",
      "                                                                                                  \n",
      " block4b_project_conv (Conv  (None, 14, 14, 96)           36864     ['block4b_se_excite[0][0]']   \n",
      " 2D)                                                                                              \n",
      "                                                                                                  \n",
      " block4b_project_bn (BatchN  (None, 14, 14, 96)           384       ['block4b_project_conv[0][0]']\n",
      " ormalization)                                                                                    \n"
     ]
    },
    {
     "name": "stdout",
     "output_type": "stream",
     "text": [
      "                                                                                                  \n",
      " block4b_add (Add)           (None, 14, 14, 96)           0         ['block4b_project_bn[0][0]',  \n",
      "                                                                     'block4a_project_bn[0][0]']  \n",
      "                                                                                                  \n",
      " block4c_expand_conv (Conv2  (None, 14, 14, 384)          36864     ['block4b_add[0][0]']         \n",
      " D)                                                                                               \n",
      "                                                                                                  \n",
      " block4c_expand_bn (BatchNo  (None, 14, 14, 384)          1536      ['block4c_expand_conv[0][0]'] \n",
      " rmalization)                                                                                     \n",
      "                                                                                                  \n",
      " block4c_expand_activation   (None, 14, 14, 384)          0         ['block4c_expand_bn[0][0]']   \n",
      " (Activation)                                                                                     \n",
      "                                                                                                  \n",
      " block4c_dwconv2 (Depthwise  (None, 14, 14, 384)          3456      ['block4c_expand_activation[0]\n",
      " Conv2D)                                                            [0]']                         \n",
      "                                                                                                  \n",
      " block4c_bn (BatchNormaliza  (None, 14, 14, 384)          1536      ['block4c_dwconv2[0][0]']     \n",
      " tion)                                                                                            \n",
      "                                                                                                  \n",
      " block4c_activation (Activa  (None, 14, 14, 384)          0         ['block4c_bn[0][0]']          \n",
      " tion)                                                                                            \n",
      "                                                                                                  \n",
      " block4c_se_squeeze (Global  (None, 384)                  0         ['block4c_activation[0][0]']  \n",
      " AveragePooling2D)                                                                                \n",
      "                                                                                                  \n",
      " block4c_se_reshape (Reshap  (None, 1, 1, 384)            0         ['block4c_se_squeeze[0][0]']  \n",
      " e)                                                                                               \n",
      "                                                                                                  \n",
      " block4c_se_reduce (Conv2D)  (None, 1, 1, 24)             9240      ['block4c_se_reshape[0][0]']  \n",
      "                                                                                                  \n",
      " block4c_se_expand (Conv2D)  (None, 1, 1, 384)            9600      ['block4c_se_reduce[0][0]']   \n",
      "                                                                                                  \n",
      " block4c_se_excite (Multipl  (None, 14, 14, 384)          0         ['block4c_activation[0][0]',  \n",
      " y)                                                                  'block4c_se_expand[0][0]']   \n",
      "                                                                                                  \n",
      " block4c_project_conv (Conv  (None, 14, 14, 96)           36864     ['block4c_se_excite[0][0]']   \n",
      " 2D)                                                                                              \n",
      "                                                                                                  \n",
      " block4c_project_bn (BatchN  (None, 14, 14, 96)           384       ['block4c_project_conv[0][0]']\n",
      " ormalization)                                                                                    \n",
      "                                                                                                  \n",
      " block4c_add (Add)           (None, 14, 14, 96)           0         ['block4c_project_bn[0][0]',  \n",
      "                                                                     'block4b_add[0][0]']         \n",
      "                                                                                                  \n",
      " block5a_expand_conv (Conv2  (None, 14, 14, 576)          55296     ['block4c_add[0][0]']         \n",
      " D)                                                                                               \n",
      "                                                                                                  \n",
      " block5a_expand_bn (BatchNo  (None, 14, 14, 576)          2304      ['block5a_expand_conv[0][0]'] \n",
      " rmalization)                                                                                     \n",
      "                                                                                                  \n",
      " block5a_expand_activation   (None, 14, 14, 576)          0         ['block5a_expand_bn[0][0]']   \n",
      " (Activation)                                                                                     \n",
      "                                                                                                  \n",
      " block5a_dwconv2 (Depthwise  (None, 14, 14, 576)          5184      ['block5a_expand_activation[0]\n",
      " Conv2D)                                                            [0]']                         \n",
      "                                                                                                  \n",
      " block5a_bn (BatchNormaliza  (None, 14, 14, 576)          2304      ['block5a_dwconv2[0][0]']     \n",
      " tion)                                                                                            \n",
      "                                                                                                  \n",
      " block5a_activation (Activa  (None, 14, 14, 576)          0         ['block5a_bn[0][0]']          \n",
      " tion)                                                                                            \n",
      "                                                                                                  \n",
      " block5a_se_squeeze (Global  (None, 576)                  0         ['block5a_activation[0][0]']  \n",
      " AveragePooling2D)                                                                                \n",
      "                                                                                                  \n",
      " block5a_se_reshape (Reshap  (None, 1, 1, 576)            0         ['block5a_se_squeeze[0][0]']  \n",
      " e)                                                                                               \n",
      "                                                                                                  \n",
      " block5a_se_reduce (Conv2D)  (None, 1, 1, 24)             13848     ['block5a_se_reshape[0][0]']  \n",
      "                                                                                                  \n",
      " block5a_se_expand (Conv2D)  (None, 1, 1, 576)            14400     ['block5a_se_reduce[0][0]']   \n",
      "                                                                                                  \n",
      " block5a_se_excite (Multipl  (None, 14, 14, 576)          0         ['block5a_activation[0][0]',  \n",
      " y)                                                                  'block5a_se_expand[0][0]']   \n",
      "                                                                                                  \n",
      " block5a_project_conv (Conv  (None, 14, 14, 112)          64512     ['block5a_se_excite[0][0]']   \n",
      " 2D)                                                                                              \n",
      "                                                                                                  \n",
      " block5a_project_bn (BatchN  (None, 14, 14, 112)          448       ['block5a_project_conv[0][0]']\n",
      " ormalization)                                                                                    \n",
      "                                                                                                  \n",
      " block5b_expand_conv (Conv2  (None, 14, 14, 672)          75264     ['block5a_project_bn[0][0]']  \n",
      " D)                                                                                               \n"
     ]
    },
    {
     "name": "stdout",
     "output_type": "stream",
     "text": [
      "                                                                                                  \n",
      " block5b_expand_bn (BatchNo  (None, 14, 14, 672)          2688      ['block5b_expand_conv[0][0]'] \n",
      " rmalization)                                                                                     \n",
      "                                                                                                  \n",
      " block5b_expand_activation   (None, 14, 14, 672)          0         ['block5b_expand_bn[0][0]']   \n",
      " (Activation)                                                                                     \n",
      "                                                                                                  \n",
      " block5b_dwconv2 (Depthwise  (None, 14, 14, 672)          6048      ['block5b_expand_activation[0]\n",
      " Conv2D)                                                            [0]']                         \n",
      "                                                                                                  \n",
      " block5b_bn (BatchNormaliza  (None, 14, 14, 672)          2688      ['block5b_dwconv2[0][0]']     \n",
      " tion)                                                                                            \n",
      "                                                                                                  \n",
      " block5b_activation (Activa  (None, 14, 14, 672)          0         ['block5b_bn[0][0]']          \n",
      " tion)                                                                                            \n",
      "                                                                                                  \n",
      " block5b_se_squeeze (Global  (None, 672)                  0         ['block5b_activation[0][0]']  \n",
      " AveragePooling2D)                                                                                \n",
      "                                                                                                  \n",
      " block5b_se_reshape (Reshap  (None, 1, 1, 672)            0         ['block5b_se_squeeze[0][0]']  \n",
      " e)                                                                                               \n",
      "                                                                                                  \n",
      " block5b_se_reduce (Conv2D)  (None, 1, 1, 28)             18844     ['block5b_se_reshape[0][0]']  \n",
      "                                                                                                  \n",
      " block5b_se_expand (Conv2D)  (None, 1, 1, 672)            19488     ['block5b_se_reduce[0][0]']   \n",
      "                                                                                                  \n",
      " block5b_se_excite (Multipl  (None, 14, 14, 672)          0         ['block5b_activation[0][0]',  \n",
      " y)                                                                  'block5b_se_expand[0][0]']   \n",
      "                                                                                                  \n",
      " block5b_project_conv (Conv  (None, 14, 14, 112)          75264     ['block5b_se_excite[0][0]']   \n",
      " 2D)                                                                                              \n",
      "                                                                                                  \n",
      " block5b_project_bn (BatchN  (None, 14, 14, 112)          448       ['block5b_project_conv[0][0]']\n",
      " ormalization)                                                                                    \n",
      "                                                                                                  \n",
      " block5b_add (Add)           (None, 14, 14, 112)          0         ['block5b_project_bn[0][0]',  \n",
      "                                                                     'block5a_project_bn[0][0]']  \n",
      "                                                                                                  \n",
      " block5c_expand_conv (Conv2  (None, 14, 14, 672)          75264     ['block5b_add[0][0]']         \n",
      " D)                                                                                               \n",
      "                                                                                                  \n",
      " block5c_expand_bn (BatchNo  (None, 14, 14, 672)          2688      ['block5c_expand_conv[0][0]'] \n",
      " rmalization)                                                                                     \n",
      "                                                                                                  \n",
      " block5c_expand_activation   (None, 14, 14, 672)          0         ['block5c_expand_bn[0][0]']   \n",
      " (Activation)                                                                                     \n",
      "                                                                                                  \n",
      " block5c_dwconv2 (Depthwise  (None, 14, 14, 672)          6048      ['block5c_expand_activation[0]\n",
      " Conv2D)                                                            [0]']                         \n",
      "                                                                                                  \n",
      " block5c_bn (BatchNormaliza  (None, 14, 14, 672)          2688      ['block5c_dwconv2[0][0]']     \n",
      " tion)                                                                                            \n",
      "                                                                                                  \n",
      " block5c_activation (Activa  (None, 14, 14, 672)          0         ['block5c_bn[0][0]']          \n",
      " tion)                                                                                            \n",
      "                                                                                                  \n",
      " block5c_se_squeeze (Global  (None, 672)                  0         ['block5c_activation[0][0]']  \n",
      " AveragePooling2D)                                                                                \n",
      "                                                                                                  \n",
      " block5c_se_reshape (Reshap  (None, 1, 1, 672)            0         ['block5c_se_squeeze[0][0]']  \n",
      " e)                                                                                               \n",
      "                                                                                                  \n",
      " block5c_se_reduce (Conv2D)  (None, 1, 1, 28)             18844     ['block5c_se_reshape[0][0]']  \n",
      "                                                                                                  \n",
      " block5c_se_expand (Conv2D)  (None, 1, 1, 672)            19488     ['block5c_se_reduce[0][0]']   \n",
      "                                                                                                  \n",
      " block5c_se_excite (Multipl  (None, 14, 14, 672)          0         ['block5c_activation[0][0]',  \n",
      " y)                                                                  'block5c_se_expand[0][0]']   \n",
      "                                                                                                  \n",
      " block5c_project_conv (Conv  (None, 14, 14, 112)          75264     ['block5c_se_excite[0][0]']   \n",
      " 2D)                                                                                              \n",
      "                                                                                                  \n",
      " block5c_project_bn (BatchN  (None, 14, 14, 112)          448       ['block5c_project_conv[0][0]']\n",
      " ormalization)                                                                                    \n",
      "                                                                                                  \n",
      " block5c_add (Add)           (None, 14, 14, 112)          0         ['block5c_project_bn[0][0]',  \n",
      "                                                                     'block5b_add[0][0]']         \n",
      "                                                                                                  \n",
      " block5d_expand_conv (Conv2  (None, 14, 14, 672)          75264     ['block5c_add[0][0]']         \n",
      " D)                                                                                               \n",
      "                                                                                                  \n",
      " block5d_expand_bn (BatchNo  (None, 14, 14, 672)          2688      ['block5d_expand_conv[0][0]'] \n",
      " rmalization)                                                                                     \n"
     ]
    },
    {
     "name": "stdout",
     "output_type": "stream",
     "text": [
      "                                                                                                  \n",
      " block5d_expand_activation   (None, 14, 14, 672)          0         ['block5d_expand_bn[0][0]']   \n",
      " (Activation)                                                                                     \n",
      "                                                                                                  \n",
      " block5d_dwconv2 (Depthwise  (None, 14, 14, 672)          6048      ['block5d_expand_activation[0]\n",
      " Conv2D)                                                            [0]']                         \n",
      "                                                                                                  \n",
      " block5d_bn (BatchNormaliza  (None, 14, 14, 672)          2688      ['block5d_dwconv2[0][0]']     \n",
      " tion)                                                                                            \n",
      "                                                                                                  \n",
      " block5d_activation (Activa  (None, 14, 14, 672)          0         ['block5d_bn[0][0]']          \n",
      " tion)                                                                                            \n",
      "                                                                                                  \n",
      " block5d_se_squeeze (Global  (None, 672)                  0         ['block5d_activation[0][0]']  \n",
      " AveragePooling2D)                                                                                \n",
      "                                                                                                  \n",
      " block5d_se_reshape (Reshap  (None, 1, 1, 672)            0         ['block5d_se_squeeze[0][0]']  \n",
      " e)                                                                                               \n",
      "                                                                                                  \n",
      " block5d_se_reduce (Conv2D)  (None, 1, 1, 28)             18844     ['block5d_se_reshape[0][0]']  \n",
      "                                                                                                  \n",
      " block5d_se_expand (Conv2D)  (None, 1, 1, 672)            19488     ['block5d_se_reduce[0][0]']   \n",
      "                                                                                                  \n",
      " block5d_se_excite (Multipl  (None, 14, 14, 672)          0         ['block5d_activation[0][0]',  \n",
      " y)                                                                  'block5d_se_expand[0][0]']   \n",
      "                                                                                                  \n",
      " block5d_project_conv (Conv  (None, 14, 14, 112)          75264     ['block5d_se_excite[0][0]']   \n",
      " 2D)                                                                                              \n",
      "                                                                                                  \n",
      " block5d_project_bn (BatchN  (None, 14, 14, 112)          448       ['block5d_project_conv[0][0]']\n",
      " ormalization)                                                                                    \n",
      "                                                                                                  \n",
      " block5d_add (Add)           (None, 14, 14, 112)          0         ['block5d_project_bn[0][0]',  \n",
      "                                                                     'block5c_add[0][0]']         \n",
      "                                                                                                  \n",
      " block5e_expand_conv (Conv2  (None, 14, 14, 672)          75264     ['block5d_add[0][0]']         \n",
      " D)                                                                                               \n",
      "                                                                                                  \n",
      " block5e_expand_bn (BatchNo  (None, 14, 14, 672)          2688      ['block5e_expand_conv[0][0]'] \n",
      " rmalization)                                                                                     \n",
      "                                                                                                  \n",
      " block5e_expand_activation   (None, 14, 14, 672)          0         ['block5e_expand_bn[0][0]']   \n",
      " (Activation)                                                                                     \n",
      "                                                                                                  \n",
      " block5e_dwconv2 (Depthwise  (None, 14, 14, 672)          6048      ['block5e_expand_activation[0]\n",
      " Conv2D)                                                            [0]']                         \n",
      "                                                                                                  \n",
      " block5e_bn (BatchNormaliza  (None, 14, 14, 672)          2688      ['block5e_dwconv2[0][0]']     \n",
      " tion)                                                                                            \n",
      "                                                                                                  \n",
      " block5e_activation (Activa  (None, 14, 14, 672)          0         ['block5e_bn[0][0]']          \n",
      " tion)                                                                                            \n",
      "                                                                                                  \n",
      " block5e_se_squeeze (Global  (None, 672)                  0         ['block5e_activation[0][0]']  \n",
      " AveragePooling2D)                                                                                \n",
      "                                                                                                  \n",
      " block5e_se_reshape (Reshap  (None, 1, 1, 672)            0         ['block5e_se_squeeze[0][0]']  \n",
      " e)                                                                                               \n",
      "                                                                                                  \n",
      " block5e_se_reduce (Conv2D)  (None, 1, 1, 28)             18844     ['block5e_se_reshape[0][0]']  \n",
      "                                                                                                  \n",
      " block5e_se_expand (Conv2D)  (None, 1, 1, 672)            19488     ['block5e_se_reduce[0][0]']   \n",
      "                                                                                                  \n",
      " block5e_se_excite (Multipl  (None, 14, 14, 672)          0         ['block5e_activation[0][0]',  \n",
      " y)                                                                  'block5e_se_expand[0][0]']   \n",
      "                                                                                                  \n",
      " block5e_project_conv (Conv  (None, 14, 14, 112)          75264     ['block5e_se_excite[0][0]']   \n",
      " 2D)                                                                                              \n",
      "                                                                                                  \n",
      " block5e_project_bn (BatchN  (None, 14, 14, 112)          448       ['block5e_project_conv[0][0]']\n",
      " ormalization)                                                                                    \n",
      "                                                                                                  \n",
      " block5e_add (Add)           (None, 14, 14, 112)          0         ['block5e_project_bn[0][0]',  \n",
      "                                                                     'block5d_add[0][0]']         \n",
      "                                                                                                  \n",
      " block6a_expand_conv (Conv2  (None, 14, 14, 672)          75264     ['block5e_add[0][0]']         \n",
      " D)                                                                                               \n",
      "                                                                                                  \n",
      " block6a_expand_bn (BatchNo  (None, 14, 14, 672)          2688      ['block6a_expand_conv[0][0]'] \n",
      " rmalization)                                                                                     \n",
      "                                                                                                  \n",
      " block6a_expand_activation   (None, 14, 14, 672)          0         ['block6a_expand_bn[0][0]']   \n",
      " (Activation)                                                                                     \n"
     ]
    },
    {
     "name": "stdout",
     "output_type": "stream",
     "text": [
      "                                                                                                  \n",
      " block6a_dwconv2 (Depthwise  (None, 7, 7, 672)            6048      ['block6a_expand_activation[0]\n",
      " Conv2D)                                                            [0]']                         \n",
      "                                                                                                  \n",
      " block6a_bn (BatchNormaliza  (None, 7, 7, 672)            2688      ['block6a_dwconv2[0][0]']     \n",
      " tion)                                                                                            \n",
      "                                                                                                  \n",
      " block6a_activation (Activa  (None, 7, 7, 672)            0         ['block6a_bn[0][0]']          \n",
      " tion)                                                                                            \n",
      "                                                                                                  \n",
      " block6a_se_squeeze (Global  (None, 672)                  0         ['block6a_activation[0][0]']  \n",
      " AveragePooling2D)                                                                                \n",
      "                                                                                                  \n",
      " block6a_se_reshape (Reshap  (None, 1, 1, 672)            0         ['block6a_se_squeeze[0][0]']  \n",
      " e)                                                                                               \n",
      "                                                                                                  \n",
      " block6a_se_reduce (Conv2D)  (None, 1, 1, 28)             18844     ['block6a_se_reshape[0][0]']  \n",
      "                                                                                                  \n",
      " block6a_se_expand (Conv2D)  (None, 1, 1, 672)            19488     ['block6a_se_reduce[0][0]']   \n",
      "                                                                                                  \n",
      " block6a_se_excite (Multipl  (None, 7, 7, 672)            0         ['block6a_activation[0][0]',  \n",
      " y)                                                                  'block6a_se_expand[0][0]']   \n",
      "                                                                                                  \n",
      " block6a_project_conv (Conv  (None, 7, 7, 192)            129024    ['block6a_se_excite[0][0]']   \n",
      " 2D)                                                                                              \n",
      "                                                                                                  \n",
      " block6a_project_bn (BatchN  (None, 7, 7, 192)            768       ['block6a_project_conv[0][0]']\n",
      " ormalization)                                                                                    \n",
      "                                                                                                  \n",
      " block6b_expand_conv (Conv2  (None, 7, 7, 1152)           221184    ['block6a_project_bn[0][0]']  \n",
      " D)                                                                                               \n",
      "                                                                                                  \n",
      " block6b_expand_bn (BatchNo  (None, 7, 7, 1152)           4608      ['block6b_expand_conv[0][0]'] \n",
      " rmalization)                                                                                     \n",
      "                                                                                                  \n",
      " block6b_expand_activation   (None, 7, 7, 1152)           0         ['block6b_expand_bn[0][0]']   \n",
      " (Activation)                                                                                     \n",
      "                                                                                                  \n",
      " block6b_dwconv2 (Depthwise  (None, 7, 7, 1152)           10368     ['block6b_expand_activation[0]\n",
      " Conv2D)                                                            [0]']                         \n",
      "                                                                                                  \n",
      " block6b_bn (BatchNormaliza  (None, 7, 7, 1152)           4608      ['block6b_dwconv2[0][0]']     \n",
      " tion)                                                                                            \n",
      "                                                                                                  \n",
      " block6b_activation (Activa  (None, 7, 7, 1152)           0         ['block6b_bn[0][0]']          \n",
      " tion)                                                                                            \n",
      "                                                                                                  \n",
      " block6b_se_squeeze (Global  (None, 1152)                 0         ['block6b_activation[0][0]']  \n",
      " AveragePooling2D)                                                                                \n",
      "                                                                                                  \n",
      " block6b_se_reshape (Reshap  (None, 1, 1, 1152)           0         ['block6b_se_squeeze[0][0]']  \n",
      " e)                                                                                               \n",
      "                                                                                                  \n",
      " block6b_se_reduce (Conv2D)  (None, 1, 1, 48)             55344     ['block6b_se_reshape[0][0]']  \n",
      "                                                                                                  \n",
      " block6b_se_expand (Conv2D)  (None, 1, 1, 1152)           56448     ['block6b_se_reduce[0][0]']   \n",
      "                                                                                                  \n",
      " block6b_se_excite (Multipl  (None, 7, 7, 1152)           0         ['block6b_activation[0][0]',  \n",
      " y)                                                                  'block6b_se_expand[0][0]']   \n",
      "                                                                                                  \n",
      " block6b_project_conv (Conv  (None, 7, 7, 192)            221184    ['block6b_se_excite[0][0]']   \n",
      " 2D)                                                                                              \n",
      "                                                                                                  \n",
      " block6b_project_bn (BatchN  (None, 7, 7, 192)            768       ['block6b_project_conv[0][0]']\n",
      " ormalization)                                                                                    \n",
      "                                                                                                  \n",
      " block6b_add (Add)           (None, 7, 7, 192)            0         ['block6b_project_bn[0][0]',  \n",
      "                                                                     'block6a_project_bn[0][0]']  \n",
      "                                                                                                  \n",
      " block6c_expand_conv (Conv2  (None, 7, 7, 1152)           221184    ['block6b_add[0][0]']         \n",
      " D)                                                                                               \n",
      "                                                                                                  \n",
      " block6c_expand_bn (BatchNo  (None, 7, 7, 1152)           4608      ['block6c_expand_conv[0][0]'] \n",
      " rmalization)                                                                                     \n",
      "                                                                                                  \n",
      " block6c_expand_activation   (None, 7, 7, 1152)           0         ['block6c_expand_bn[0][0]']   \n",
      " (Activation)                                                                                     \n",
      "                                                                                                  \n",
      " block6c_dwconv2 (Depthwise  (None, 7, 7, 1152)           10368     ['block6c_expand_activation[0]\n",
      " Conv2D)                                                            [0]']                         \n",
      "                                                                                                  \n",
      " block6c_bn (BatchNormaliza  (None, 7, 7, 1152)           4608      ['block6c_dwconv2[0][0]']     \n",
      " tion)                                                                                            \n"
     ]
    },
    {
     "name": "stdout",
     "output_type": "stream",
     "text": [
      "                                                                                                  \n",
      " block6c_activation (Activa  (None, 7, 7, 1152)           0         ['block6c_bn[0][0]']          \n",
      " tion)                                                                                            \n",
      "                                                                                                  \n",
      " block6c_se_squeeze (Global  (None, 1152)                 0         ['block6c_activation[0][0]']  \n",
      " AveragePooling2D)                                                                                \n",
      "                                                                                                  \n",
      " block6c_se_reshape (Reshap  (None, 1, 1, 1152)           0         ['block6c_se_squeeze[0][0]']  \n",
      " e)                                                                                               \n",
      "                                                                                                  \n",
      " block6c_se_reduce (Conv2D)  (None, 1, 1, 48)             55344     ['block6c_se_reshape[0][0]']  \n",
      "                                                                                                  \n",
      " block6c_se_expand (Conv2D)  (None, 1, 1, 1152)           56448     ['block6c_se_reduce[0][0]']   \n",
      "                                                                                                  \n",
      " block6c_se_excite (Multipl  (None, 7, 7, 1152)           0         ['block6c_activation[0][0]',  \n",
      " y)                                                                  'block6c_se_expand[0][0]']   \n",
      "                                                                                                  \n",
      " block6c_project_conv (Conv  (None, 7, 7, 192)            221184    ['block6c_se_excite[0][0]']   \n",
      " 2D)                                                                                              \n",
      "                                                                                                  \n",
      " block6c_project_bn (BatchN  (None, 7, 7, 192)            768       ['block6c_project_conv[0][0]']\n",
      " ormalization)                                                                                    \n",
      "                                                                                                  \n",
      " block6c_add (Add)           (None, 7, 7, 192)            0         ['block6c_project_bn[0][0]',  \n",
      "                                                                     'block6b_add[0][0]']         \n",
      "                                                                                                  \n",
      " block6d_expand_conv (Conv2  (None, 7, 7, 1152)           221184    ['block6c_add[0][0]']         \n",
      " D)                                                                                               \n",
      "                                                                                                  \n",
      " block6d_expand_bn (BatchNo  (None, 7, 7, 1152)           4608      ['block6d_expand_conv[0][0]'] \n",
      " rmalization)                                                                                     \n",
      "                                                                                                  \n",
      " block6d_expand_activation   (None, 7, 7, 1152)           0         ['block6d_expand_bn[0][0]']   \n",
      " (Activation)                                                                                     \n",
      "                                                                                                  \n",
      " block6d_dwconv2 (Depthwise  (None, 7, 7, 1152)           10368     ['block6d_expand_activation[0]\n",
      " Conv2D)                                                            [0]']                         \n",
      "                                                                                                  \n",
      " block6d_bn (BatchNormaliza  (None, 7, 7, 1152)           4608      ['block6d_dwconv2[0][0]']     \n",
      " tion)                                                                                            \n",
      "                                                                                                  \n",
      " block6d_activation (Activa  (None, 7, 7, 1152)           0         ['block6d_bn[0][0]']          \n",
      " tion)                                                                                            \n",
      "                                                                                                  \n",
      " block6d_se_squeeze (Global  (None, 1152)                 0         ['block6d_activation[0][0]']  \n",
      " AveragePooling2D)                                                                                \n",
      "                                                                                                  \n",
      " block6d_se_reshape (Reshap  (None, 1, 1, 1152)           0         ['block6d_se_squeeze[0][0]']  \n",
      " e)                                                                                               \n",
      "                                                                                                  \n",
      " block6d_se_reduce (Conv2D)  (None, 1, 1, 48)             55344     ['block6d_se_reshape[0][0]']  \n",
      "                                                                                                  \n",
      " block6d_se_expand (Conv2D)  (None, 1, 1, 1152)           56448     ['block6d_se_reduce[0][0]']   \n",
      "                                                                                                  \n",
      " block6d_se_excite (Multipl  (None, 7, 7, 1152)           0         ['block6d_activation[0][0]',  \n",
      " y)                                                                  'block6d_se_expand[0][0]']   \n",
      "                                                                                                  \n",
      " block6d_project_conv (Conv  (None, 7, 7, 192)            221184    ['block6d_se_excite[0][0]']   \n",
      " 2D)                                                                                              \n",
      "                                                                                                  \n",
      " block6d_project_bn (BatchN  (None, 7, 7, 192)            768       ['block6d_project_conv[0][0]']\n",
      " ormalization)                                                                                    \n",
      "                                                                                                  \n",
      " block6d_add (Add)           (None, 7, 7, 192)            0         ['block6d_project_bn[0][0]',  \n",
      "                                                                     'block6c_add[0][0]']         \n",
      "                                                                                                  \n",
      " block6e_expand_conv (Conv2  (None, 7, 7, 1152)           221184    ['block6d_add[0][0]']         \n",
      " D)                                                                                               \n",
      "                                                                                                  \n",
      " block6e_expand_bn (BatchNo  (None, 7, 7, 1152)           4608      ['block6e_expand_conv[0][0]'] \n",
      " rmalization)                                                                                     \n",
      "                                                                                                  \n",
      " block6e_expand_activation   (None, 7, 7, 1152)           0         ['block6e_expand_bn[0][0]']   \n",
      " (Activation)                                                                                     \n",
      "                                                                                                  \n",
      " block6e_dwconv2 (Depthwise  (None, 7, 7, 1152)           10368     ['block6e_expand_activation[0]\n",
      " Conv2D)                                                            [0]']                         \n",
      "                                                                                                  \n",
      " block6e_bn (BatchNormaliza  (None, 7, 7, 1152)           4608      ['block6e_dwconv2[0][0]']     \n",
      " tion)                                                                                            \n",
      "                                                                                                  \n",
      " block6e_activation (Activa  (None, 7, 7, 1152)           0         ['block6e_bn[0][0]']          \n",
      " tion)                                                                                            \n"
     ]
    },
    {
     "name": "stdout",
     "output_type": "stream",
     "text": [
      "                                                                                                  \n",
      " block6e_se_squeeze (Global  (None, 1152)                 0         ['block6e_activation[0][0]']  \n",
      " AveragePooling2D)                                                                                \n",
      "                                                                                                  \n",
      " block6e_se_reshape (Reshap  (None, 1, 1, 1152)           0         ['block6e_se_squeeze[0][0]']  \n",
      " e)                                                                                               \n",
      "                                                                                                  \n",
      " block6e_se_reduce (Conv2D)  (None, 1, 1, 48)             55344     ['block6e_se_reshape[0][0]']  \n",
      "                                                                                                  \n",
      " block6e_se_expand (Conv2D)  (None, 1, 1, 1152)           56448     ['block6e_se_reduce[0][0]']   \n",
      "                                                                                                  \n",
      " block6e_se_excite (Multipl  (None, 7, 7, 1152)           0         ['block6e_activation[0][0]',  \n",
      " y)                                                                  'block6e_se_expand[0][0]']   \n",
      "                                                                                                  \n",
      " block6e_project_conv (Conv  (None, 7, 7, 192)            221184    ['block6e_se_excite[0][0]']   \n",
      " 2D)                                                                                              \n",
      "                                                                                                  \n",
      " block6e_project_bn (BatchN  (None, 7, 7, 192)            768       ['block6e_project_conv[0][0]']\n",
      " ormalization)                                                                                    \n",
      "                                                                                                  \n",
      " block6e_add (Add)           (None, 7, 7, 192)            0         ['block6e_project_bn[0][0]',  \n",
      "                                                                     'block6d_add[0][0]']         \n",
      "                                                                                                  \n",
      " block6f_expand_conv (Conv2  (None, 7, 7, 1152)           221184    ['block6e_add[0][0]']         \n",
      " D)                                                                                               \n",
      "                                                                                                  \n",
      " block6f_expand_bn (BatchNo  (None, 7, 7, 1152)           4608      ['block6f_expand_conv[0][0]'] \n",
      " rmalization)                                                                                     \n",
      "                                                                                                  \n",
      " block6f_expand_activation   (None, 7, 7, 1152)           0         ['block6f_expand_bn[0][0]']   \n",
      " (Activation)                                                                                     \n",
      "                                                                                                  \n",
      " block6f_dwconv2 (Depthwise  (None, 7, 7, 1152)           10368     ['block6f_expand_activation[0]\n",
      " Conv2D)                                                            [0]']                         \n",
      "                                                                                                  \n",
      " block6f_bn (BatchNormaliza  (None, 7, 7, 1152)           4608      ['block6f_dwconv2[0][0]']     \n",
      " tion)                                                                                            \n",
      "                                                                                                  \n",
      " block6f_activation (Activa  (None, 7, 7, 1152)           0         ['block6f_bn[0][0]']          \n",
      " tion)                                                                                            \n",
      "                                                                                                  \n",
      " block6f_se_squeeze (Global  (None, 1152)                 0         ['block6f_activation[0][0]']  \n",
      " AveragePooling2D)                                                                                \n",
      "                                                                                                  \n",
      " block6f_se_reshape (Reshap  (None, 1, 1, 1152)           0         ['block6f_se_squeeze[0][0]']  \n",
      " e)                                                                                               \n",
      "                                                                                                  \n",
      " block6f_se_reduce (Conv2D)  (None, 1, 1, 48)             55344     ['block6f_se_reshape[0][0]']  \n",
      "                                                                                                  \n",
      " block6f_se_expand (Conv2D)  (None, 1, 1, 1152)           56448     ['block6f_se_reduce[0][0]']   \n",
      "                                                                                                  \n",
      " block6f_se_excite (Multipl  (None, 7, 7, 1152)           0         ['block6f_activation[0][0]',  \n",
      " y)                                                                  'block6f_se_expand[0][0]']   \n",
      "                                                                                                  \n",
      " block6f_project_conv (Conv  (None, 7, 7, 192)            221184    ['block6f_se_excite[0][0]']   \n",
      " 2D)                                                                                              \n",
      "                                                                                                  \n",
      " block6f_project_bn (BatchN  (None, 7, 7, 192)            768       ['block6f_project_conv[0][0]']\n",
      " ormalization)                                                                                    \n",
      "                                                                                                  \n",
      " block6f_add (Add)           (None, 7, 7, 192)            0         ['block6f_project_bn[0][0]',  \n",
      "                                                                     'block6e_add[0][0]']         \n",
      "                                                                                                  \n",
      " block6g_expand_conv (Conv2  (None, 7, 7, 1152)           221184    ['block6f_add[0][0]']         \n",
      " D)                                                                                               \n",
      "                                                                                                  \n",
      " block6g_expand_bn (BatchNo  (None, 7, 7, 1152)           4608      ['block6g_expand_conv[0][0]'] \n",
      " rmalization)                                                                                     \n",
      "                                                                                                  \n",
      " block6g_expand_activation   (None, 7, 7, 1152)           0         ['block6g_expand_bn[0][0]']   \n",
      " (Activation)                                                                                     \n",
      "                                                                                                  \n",
      " block6g_dwconv2 (Depthwise  (None, 7, 7, 1152)           10368     ['block6g_expand_activation[0]\n",
      " Conv2D)                                                            [0]']                         \n",
      "                                                                                                  \n",
      " block6g_bn (BatchNormaliza  (None, 7, 7, 1152)           4608      ['block6g_dwconv2[0][0]']     \n",
      " tion)                                                                                            \n",
      "                                                                                                  \n",
      " block6g_activation (Activa  (None, 7, 7, 1152)           0         ['block6g_bn[0][0]']          \n",
      " tion)                                                                                            \n",
      "                                                                                                  \n",
      " block6g_se_squeeze (Global  (None, 1152)                 0         ['block6g_activation[0][0]']  \n",
      " AveragePooling2D)                                                                                \n"
     ]
    },
    {
     "name": "stdout",
     "output_type": "stream",
     "text": [
      "                                                                                                  \n",
      " block6g_se_reshape (Reshap  (None, 1, 1, 1152)           0         ['block6g_se_squeeze[0][0]']  \n",
      " e)                                                                                               \n",
      "                                                                                                  \n",
      " block6g_se_reduce (Conv2D)  (None, 1, 1, 48)             55344     ['block6g_se_reshape[0][0]']  \n",
      "                                                                                                  \n",
      " block6g_se_expand (Conv2D)  (None, 1, 1, 1152)           56448     ['block6g_se_reduce[0][0]']   \n",
      "                                                                                                  \n",
      " block6g_se_excite (Multipl  (None, 7, 7, 1152)           0         ['block6g_activation[0][0]',  \n",
      " y)                                                                  'block6g_se_expand[0][0]']   \n",
      "                                                                                                  \n",
      " block6g_project_conv (Conv  (None, 7, 7, 192)            221184    ['block6g_se_excite[0][0]']   \n",
      " 2D)                                                                                              \n",
      "                                                                                                  \n",
      " block6g_project_bn (BatchN  (None, 7, 7, 192)            768       ['block6g_project_conv[0][0]']\n",
      " ormalization)                                                                                    \n",
      "                                                                                                  \n",
      " block6g_add (Add)           (None, 7, 7, 192)            0         ['block6g_project_bn[0][0]',  \n",
      "                                                                     'block6f_add[0][0]']         \n",
      "                                                                                                  \n",
      " block6h_expand_conv (Conv2  (None, 7, 7, 1152)           221184    ['block6g_add[0][0]']         \n",
      " D)                                                                                               \n",
      "                                                                                                  \n",
      " block6h_expand_bn (BatchNo  (None, 7, 7, 1152)           4608      ['block6h_expand_conv[0][0]'] \n",
      " rmalization)                                                                                     \n",
      "                                                                                                  \n",
      " block6h_expand_activation   (None, 7, 7, 1152)           0         ['block6h_expand_bn[0][0]']   \n",
      " (Activation)                                                                                     \n",
      "                                                                                                  \n",
      " block6h_dwconv2 (Depthwise  (None, 7, 7, 1152)           10368     ['block6h_expand_activation[0]\n",
      " Conv2D)                                                            [0]']                         \n",
      "                                                                                                  \n",
      " block6h_bn (BatchNormaliza  (None, 7, 7, 1152)           4608      ['block6h_dwconv2[0][0]']     \n",
      " tion)                                                                                            \n",
      "                                                                                                  \n",
      " block6h_activation (Activa  (None, 7, 7, 1152)           0         ['block6h_bn[0][0]']          \n",
      " tion)                                                                                            \n",
      "                                                                                                  \n",
      " block6h_se_squeeze (Global  (None, 1152)                 0         ['block6h_activation[0][0]']  \n",
      " AveragePooling2D)                                                                                \n",
      "                                                                                                  \n",
      " block6h_se_reshape (Reshap  (None, 1, 1, 1152)           0         ['block6h_se_squeeze[0][0]']  \n",
      " e)                                                                                               \n",
      "                                                                                                  \n",
      " block6h_se_reduce (Conv2D)  (None, 1, 1, 48)             55344     ['block6h_se_reshape[0][0]']  \n",
      "                                                                                                  \n",
      " block6h_se_expand (Conv2D)  (None, 1, 1, 1152)           56448     ['block6h_se_reduce[0][0]']   \n",
      "                                                                                                  \n",
      " block6h_se_excite (Multipl  (None, 7, 7, 1152)           0         ['block6h_activation[0][0]',  \n",
      " y)                                                                  'block6h_se_expand[0][0]']   \n",
      "                                                                                                  \n",
      " block6h_project_conv (Conv  (None, 7, 7, 192)            221184    ['block6h_se_excite[0][0]']   \n",
      " 2D)                                                                                              \n",
      "                                                                                                  \n",
      " block6h_project_bn (BatchN  (None, 7, 7, 192)            768       ['block6h_project_conv[0][0]']\n",
      " ormalization)                                                                                    \n",
      "                                                                                                  \n",
      " block6h_add (Add)           (None, 7, 7, 192)            0         ['block6h_project_bn[0][0]',  \n",
      "                                                                     'block6g_add[0][0]']         \n",
      "                                                                                                  \n",
      " top_conv (Conv2D)           (None, 7, 7, 1280)           245760    ['block6h_add[0][0]']         \n",
      "                                                                                                  \n",
      " top_bn (BatchNormalization  (None, 7, 7, 1280)           5120      ['top_conv[0][0]']            \n",
      " )                                                                                                \n",
      "                                                                                                  \n",
      " top_activation (Activation  (None, 7, 7, 1280)           0         ['top_bn[0][0]']              \n",
      " )                                                                                                \n",
      "                                                                                                  \n",
      " max_pool (GlobalMaxPooling  (None, 1280)                 0         ['top_activation[0][0]']      \n",
      " 2D)                                                                                              \n",
      "                                                                                                  \n",
      " batch_normalization (Batch  (None, 1280)                 5120      ['max_pool[0][0]']            \n",
      " Normalization)                                                                                   \n",
      "                                                                                                  \n",
      " dense (Dense)               (None, 256)                  327936    ['batch_normalization[0][0]'] \n",
      "                                                                                                  \n",
      " dropout (Dropout)           (None, 256)                  0         ['dense[0][0]']               \n",
      "                                                                                                  \n",
      " dense_1 (Dense)             (None, 525)                  134925    ['dropout[0][0]']             \n",
      "                                                                                                  \n",
      "==================================================================================================\n",
      "Total params: 6387293 (24.37 MB)\n",
      "Trainable params: 3202213 (12.22 MB)\n",
      "Non-trainable params: 3185080 (12.15 MB)\n",
      "__________________________________________________________________________________________________\n"
     ]
    }
   ],
   "source": [
    "effnet_layer_names = {layer.name for layer in effnet.layers}\n",
    "\n",
    "ds_model_ltd = tf.keras.models.load_model(\n",
    "    os.path.join('data', 'EfficientNetB0-525-(224 X 224)- 98.97.h5'),\n",
    "    custom_objects={\n",
    "        'F1_score': tf.keras.metrics.F1Score(average='weighted', threshold=None, name='f1_score', dtype=None)\n",
    "    }\n",
    ")\n",
    "\n",
    "for layer in ds_model_ltd.layers:\n",
    "    if layer.name in effnet_layer_names:\n",
    "        layer.trainable = False\n",
    "    else:\n",
    "        if hasattr(layer, 'trainable_weights'):\n",
    "            for w in layer.trainable_weights:\n",
    "                w.assign(tf.keras.initializers.he_normal()(w.shape))\n",
    "\n",
    "ds_model_ltd.compile(\n",
    "    optimizer=tf.keras.optimizers.AdamW(0.0001),\n",
    "    loss='categorical_crossentropy',\n",
    "    metrics=[\n",
    "        'accuracy',\n",
    "        tf.keras.metrics.F1Score(\n",
    "            average='weighted', threshold=None, name='f1_score', dtype=None\n",
    "        )\n",
    "    ]\n",
    ")\n",
    "ds_model_ltd.summary()"
   ]
  },
  {
   "cell_type": "markdown",
   "id": "5499b13f-ec23-4a29-8901-1a5a0a1e1988",
   "metadata": {},
   "source": [
    "Note that the original ds_model may have used a different traing method (i.e. optimizer, learning rate scheduler, etc.), but the dataset documentation does not specify.\n",
    "\n",
    ">This is a trained EfficientNetB0 model. It was trained on images of shape 224 X 224 X3. The model name nomenclature is model type-number of classes-image size-F1score. This model achieved an F1 score of 98.97 on the test set. The model was trained on the train set that used augmentation so that each class (specie[s]) has 200 training images.\n",
    "\n",
    "This training uses the same optimizer and learning rate scheduler as the best model trained from `optim.py`."
   ]
  },
  {
   "cell_type": "code",
   "execution_count": 4,
   "id": "81640d62-efa4-4ae4-b7a5-e4999982dae2",
   "metadata": {},
   "outputs": [
    {
     "name": "stdout",
     "output_type": "stream",
     "text": [
      "Found 13125 files belonging to 525 classes.\n",
      "Found 2625 files belonging to 525 classes.\n",
      "Epoch 1/256\n"
     ]
    },
    {
     "name": "stderr",
     "output_type": "stream",
     "text": [
      "2023-10-24 15:41:02.598353: I tensorflow/core/kernels/data/shuffle_dataset_op.cc:422] ShuffleDatasetV3:14: Filling up shuffle buffer (this may take a while): 1844 of 4096\n",
      "2023-10-24 15:41:12.664934: I tensorflow/core/kernels/data/shuffle_dataset_op.cc:422] ShuffleDatasetV3:14: Filling up shuffle buffer (this may take a while): 3712 of 4096\n",
      "2023-10-24 15:41:14.569863: I tensorflow/core/kernels/data/shuffle_dataset_op.cc:452] Shuffle buffer filled.\n"
     ]
    },
    {
     "name": "stdout",
     "output_type": "stream",
     "text": [
      "26/26 [==============================] - ETA: 0s - loss: 14.2564 - accuracy: 0.0011 - f1_score: 1.2421e-04    INFO:tensorflow:Assets written to: /home/steve/Desktop/Juan_NN/ds_model_ltd/assets\n"
     ]
    },
    {
     "name": "stderr",
     "output_type": "stream",
     "text": [
      "INFO:tensorflow:Assets written to: /home/steve/Desktop/Juan_NN/ds_model_ltd/assets\n"
     ]
    },
    {
     "name": "stdout",
     "output_type": "stream",
     "text": [
      "26/26 [==============================] - 520s 19s/step - loss: 14.2564 - accuracy: 0.0011 - f1_score: 1.2421e-04 - val_loss: 13.8137 - val_accuracy: 0.0019 - val_f1_score: 7.2424e-06 - lr: 1.0000e-04\n",
      "Epoch 2/256\n",
      "26/26 [==============================] - ETA: 0s - loss: 13.4346 - accuracy: 0.0024 - f1_score: 2.8778e-04 INFO:tensorflow:Assets written to: /home/steve/Desktop/Juan_NN/ds_model_ltd/assets\n"
     ]
    },
    {
     "name": "stderr",
     "output_type": "stream",
     "text": [
      "INFO:tensorflow:Assets written to: /home/steve/Desktop/Juan_NN/ds_model_ltd/assets\n"
     ]
    },
    {
     "name": "stdout",
     "output_type": "stream",
     "text": [
      "26/26 [==============================] - 465s 18s/step - loss: 13.4346 - accuracy: 0.0024 - f1_score: 2.8778e-04 - val_loss: 13.0395 - val_accuracy: 0.0019 - val_f1_score: 7.2424e-06 - lr: 1.0000e-04\n",
      "Epoch 3/256\n",
      "26/26 [==============================] - ETA: 0s - loss: 12.6992 - accuracy: 0.0017 - f1_score: 1.1282e-04 INFO:tensorflow:Assets written to: /home/steve/Desktop/Juan_NN/ds_model_ltd/assets\n"
     ]
    },
    {
     "name": "stderr",
     "output_type": "stream",
     "text": [
      "INFO:tensorflow:Assets written to: /home/steve/Desktop/Juan_NN/ds_model_ltd/assets\n"
     ]
    },
    {
     "name": "stdout",
     "output_type": "stream",
     "text": [
      "26/26 [==============================] - 471s 18s/step - loss: 12.6992 - accuracy: 0.0017 - f1_score: 1.1282e-04 - val_loss: 12.3466 - val_accuracy: 0.0019 - val_f1_score: 7.2424e-06 - lr: 1.0000e-04\n",
      "Epoch 4/256\n",
      "26/26 [==============================] - ETA: 0s - loss: 12.0407 - accuracy: 0.0017 - f1_score: 2.5523e-04 INFO:tensorflow:Assets written to: /home/steve/Desktop/Juan_NN/ds_model_ltd/assets\n"
     ]
    },
    {
     "name": "stderr",
     "output_type": "stream",
     "text": [
      "INFO:tensorflow:Assets written to: /home/steve/Desktop/Juan_NN/ds_model_ltd/assets\n"
     ]
    },
    {
     "name": "stdout",
     "output_type": "stream",
     "text": [
      "26/26 [==============================] - 469s 18s/step - loss: 12.0407 - accuracy: 0.0017 - f1_score: 2.5523e-04 - val_loss: 11.7262 - val_accuracy: 0.0019 - val_f1_score: 7.2424e-06 - lr: 1.0000e-04\n",
      "Epoch 5/256\n",
      "26/26 [==============================] - ETA: 0s - loss: 11.4516 - accuracy: 0.0018 - f1_score: 1.0196e-04 INFO:tensorflow:Assets written to: /home/steve/Desktop/Juan_NN/ds_model_ltd/assets\n"
     ]
    },
    {
     "name": "stderr",
     "output_type": "stream",
     "text": [
      "INFO:tensorflow:Assets written to: /home/steve/Desktop/Juan_NN/ds_model_ltd/assets\n"
     ]
    },
    {
     "name": "stdout",
     "output_type": "stream",
     "text": [
      "26/26 [==============================] - 473s 18s/step - loss: 11.4516 - accuracy: 0.0018 - f1_score: 1.0196e-04 - val_loss: 11.1697 - val_accuracy: 0.0019 - val_f1_score: 7.2424e-06 - lr: 1.0000e-04\n",
      "Epoch 6/256\n",
      "26/26 [==============================] - ETA: 0s - loss: 10.9235 - accuracy: 0.0018 - f1_score: 8.3229e-05 INFO:tensorflow:Assets written to: /home/steve/Desktop/Juan_NN/ds_model_ltd/assets\n"
     ]
    },
    {
     "name": "stderr",
     "output_type": "stream",
     "text": [
      "INFO:tensorflow:Assets written to: /home/steve/Desktop/Juan_NN/ds_model_ltd/assets\n"
     ]
    },
    {
     "name": "stdout",
     "output_type": "stream",
     "text": [
      "26/26 [==============================] - 477s 18s/step - loss: 10.9235 - accuracy: 0.0018 - f1_score: 8.3229e-05 - val_loss: 10.6702 - val_accuracy: 0.0019 - val_f1_score: 7.2424e-06 - lr: 1.0000e-04\n",
      "Epoch 7/256\n",
      "26/26 [==============================] - ETA: 0s - loss: 10.4493 - accuracy: 0.0019 - f1_score: 6.2890e-05 INFO:tensorflow:Assets written to: /home/steve/Desktop/Juan_NN/ds_model_ltd/assets\n"
     ]
    },
    {
     "name": "stderr",
     "output_type": "stream",
     "text": [
      "INFO:tensorflow:Assets written to: /home/steve/Desktop/Juan_NN/ds_model_ltd/assets\n"
     ]
    },
    {
     "name": "stdout",
     "output_type": "stream",
     "text": [
      "26/26 [==============================] - 475s 18s/step - loss: 10.4493 - accuracy: 0.0019 - f1_score: 6.2890e-05 - val_loss: 10.2211 - val_accuracy: 0.0019 - val_f1_score: 7.2424e-06 - lr: 1.0000e-04\n",
      "Epoch 8/256\n",
      "26/26 [==============================] - ETA: 0s - loss: 10.0229 - accuracy: 0.0017 - f1_score: 2.9967e-05 INFO:tensorflow:Assets written to: /home/steve/Desktop/Juan_NN/ds_model_ltd/assets\n"
     ]
    },
    {
     "name": "stderr",
     "output_type": "stream",
     "text": [
      "INFO:tensorflow:Assets written to: /home/steve/Desktop/Juan_NN/ds_model_ltd/assets\n"
     ]
    },
    {
     "name": "stdout",
     "output_type": "stream",
     "text": [
      "26/26 [==============================] - 475s 18s/step - loss: 10.0229 - accuracy: 0.0017 - f1_score: 2.9967e-05 - val_loss: 9.8173 - val_accuracy: 0.0019 - val_f1_score: 7.2424e-06 - lr: 1.0000e-04\n",
      "Epoch 9/256\n",
      "26/26 [==============================] - ETA: 0s - loss: 9.6390 - accuracy: 0.0022 - f1_score: 3.7700e-05 INFO:tensorflow:Assets written to: /home/steve/Desktop/Juan_NN/ds_model_ltd/assets\n"
     ]
    },
    {
     "name": "stderr",
     "output_type": "stream",
     "text": [
      "INFO:tensorflow:Assets written to: /home/steve/Desktop/Juan_NN/ds_model_ltd/assets\n"
     ]
    },
    {
     "name": "stdout",
     "output_type": "stream",
     "text": [
      "26/26 [==============================] - 475s 18s/step - loss: 9.6390 - accuracy: 0.0022 - f1_score: 3.7700e-05 - val_loss: 9.4540 - val_accuracy: 0.0019 - val_f1_score: 7.2424e-06 - lr: 1.0000e-04\n",
      "Epoch 10/256\n",
      "26/26 [==============================] - ETA: 0s - loss: 9.2937 - accuracy: 0.0017 - f1_score: 1.5585e-05 INFO:tensorflow:Assets written to: /home/steve/Desktop/Juan_NN/ds_model_ltd/assets\n"
     ]
    },
    {
     "name": "stderr",
     "output_type": "stream",
     "text": [
      "INFO:tensorflow:Assets written to: /home/steve/Desktop/Juan_NN/ds_model_ltd/assets\n"
     ]
    },
    {
     "name": "stdout",
     "output_type": "stream",
     "text": [
      "26/26 [==============================] - 476s 18s/step - loss: 9.2937 - accuracy: 0.0017 - f1_score: 1.5585e-05 - val_loss: 9.1268 - val_accuracy: 0.0019 - val_f1_score: 7.2424e-06 - lr: 1.0000e-04\n",
      "Epoch 11/256\n",
      "26/26 [==============================] - ETA: 0s - loss: 8.9828 - accuracy: 0.0019 - f1_score: 7.2823e-06 INFO:tensorflow:Assets written to: /home/steve/Desktop/Juan_NN/ds_model_ltd/assets\n"
     ]
    },
    {
     "name": "stderr",
     "output_type": "stream",
     "text": [
      "INFO:tensorflow:Assets written to: /home/steve/Desktop/Juan_NN/ds_model_ltd/assets\n"
     ]
    },
    {
     "name": "stdout",
     "output_type": "stream",
     "text": [
      "26/26 [==============================] - 476s 18s/step - loss: 8.9828 - accuracy: 0.0019 - f1_score: 7.2823e-06 - val_loss: 8.8323 - val_accuracy: 0.0019 - val_f1_score: 7.2424e-06 - lr: 1.0000e-04\n",
      "Epoch 12/256\n",
      "26/26 [==============================] - ETA: 0s - loss: 8.7028 - accuracy: 0.0019 - f1_score: 7.2474e-06 INFO:tensorflow:Assets written to: /home/steve/Desktop/Juan_NN/ds_model_ltd/assets\n"
     ]
    },
    {
     "name": "stderr",
     "output_type": "stream",
     "text": [
      "INFO:tensorflow:Assets written to: /home/steve/Desktop/Juan_NN/ds_model_ltd/assets\n"
     ]
    },
    {
     "name": "stdout",
     "output_type": "stream",
     "text": [
      "26/26 [==============================] - 478s 18s/step - loss: 8.7028 - accuracy: 0.0019 - f1_score: 7.2474e-06 - val_loss: 8.5672 - val_accuracy: 0.0019 - val_f1_score: 7.2424e-06 - lr: 1.0000e-04\n",
      "Epoch 13/256\n",
      "26/26 [==============================] - ETA: 0s - loss: 8.4507 - accuracy: 0.0019 - f1_score: 7.2573e-06 INFO:tensorflow:Assets written to: /home/steve/Desktop/Juan_NN/ds_model_ltd/assets\n"
     ]
    },
    {
     "name": "stderr",
     "output_type": "stream",
     "text": [
      "INFO:tensorflow:Assets written to: /home/steve/Desktop/Juan_NN/ds_model_ltd/assets\n"
     ]
    },
    {
     "name": "stdout",
     "output_type": "stream",
     "text": [
      "26/26 [==============================] - 479s 18s/step - loss: 8.4507 - accuracy: 0.0019 - f1_score: 7.2573e-06 - val_loss: 8.3285 - val_accuracy: 0.0019 - val_f1_score: 7.2424e-06 - lr: 1.0000e-04\n",
      "Epoch 14/256\n",
      "26/26 [==============================] - ETA: 0s - loss: 8.2238 - accuracy: 0.0019 - f1_score: 7.2790e-06 INFO:tensorflow:Assets written to: /home/steve/Desktop/Juan_NN/ds_model_ltd/assets\n"
     ]
    },
    {
     "name": "stderr",
     "output_type": "stream",
     "text": [
      "INFO:tensorflow:Assets written to: /home/steve/Desktop/Juan_NN/ds_model_ltd/assets\n"
     ]
    },
    {
     "name": "stdout",
     "output_type": "stream",
     "text": [
      "26/26 [==============================] - 476s 18s/step - loss: 8.2238 - accuracy: 0.0019 - f1_score: 7.2790e-06 - val_loss: 8.1137 - val_accuracy: 0.0019 - val_f1_score: 7.2424e-06 - lr: 1.0000e-04\n",
      "Epoch 15/256\n",
      "26/26 [==============================] - ETA: 0s - loss: 8.0195 - accuracy: 0.0019 - f1_score: 7.2435e-06 INFO:tensorflow:Assets written to: /home/steve/Desktop/Juan_NN/ds_model_ltd/assets\n"
     ]
    },
    {
     "name": "stderr",
     "output_type": "stream",
     "text": [
      "INFO:tensorflow:Assets written to: /home/steve/Desktop/Juan_NN/ds_model_ltd/assets\n"
     ]
    },
    {
     "name": "stdout",
     "output_type": "stream",
     "text": [
      "26/26 [==============================] - 476s 18s/step - loss: 8.0195 - accuracy: 0.0019 - f1_score: 7.2435e-06 - val_loss: 7.9204 - val_accuracy: 0.0019 - val_f1_score: 7.2424e-06 - lr: 1.0000e-04\n",
      "Epoch 16/256\n",
      "26/26 [==============================] - ETA: 0s - loss: 7.8357 - accuracy: 0.0019 - f1_score: 7.2474e-06 INFO:tensorflow:Assets written to: /home/steve/Desktop/Juan_NN/ds_model_ltd/assets\n"
     ]
    },
    {
     "name": "stderr",
     "output_type": "stream",
     "text": [
      "INFO:tensorflow:Assets written to: /home/steve/Desktop/Juan_NN/ds_model_ltd/assets\n"
     ]
    },
    {
     "name": "stdout",
     "output_type": "stream",
     "text": [
      "26/26 [==============================] - 481s 19s/step - loss: 7.8357 - accuracy: 0.0019 - f1_score: 7.2474e-06 - val_loss: 7.7465 - val_accuracy: 0.0019 - val_f1_score: 7.2424e-06 - lr: 1.0000e-04\n",
      "Epoch 17/256\n",
      "26/26 [==============================] - ETA: 0s - loss: 7.6704 - accuracy: 0.0019 - f1_score: 7.2480e-06 INFO:tensorflow:Assets written to: /home/steve/Desktop/Juan_NN/ds_model_ltd/assets\n"
     ]
    },
    {
     "name": "stderr",
     "output_type": "stream",
     "text": [
      "INFO:tensorflow:Assets written to: /home/steve/Desktop/Juan_NN/ds_model_ltd/assets\n"
     ]
    },
    {
     "name": "stdout",
     "output_type": "stream",
     "text": [
      "26/26 [==============================] - 482s 19s/step - loss: 7.6704 - accuracy: 0.0019 - f1_score: 7.2480e-06 - val_loss: 7.5900 - val_accuracy: 0.0019 - val_f1_score: 7.2424e-06 - lr: 1.0000e-04\n",
      "Epoch 18/256\n",
      "26/26 [==============================] - ETA: 0s - loss: 7.5217 - accuracy: 0.0019 - f1_score: 7.2717e-06 INFO:tensorflow:Assets written to: /home/steve/Desktop/Juan_NN/ds_model_ltd/assets\n"
     ]
    },
    {
     "name": "stderr",
     "output_type": "stream",
     "text": [
      "INFO:tensorflow:Assets written to: /home/steve/Desktop/Juan_NN/ds_model_ltd/assets\n"
     ]
    },
    {
     "name": "stdout",
     "output_type": "stream",
     "text": [
      "26/26 [==============================] - 480s 19s/step - loss: 7.5217 - accuracy: 0.0019 - f1_score: 7.2717e-06 - val_loss: 7.4496 - val_accuracy: 0.0019 - val_f1_score: 7.2424e-06 - lr: 1.0000e-04\n",
      "Epoch 19/256\n",
      "26/26 [==============================] - ETA: 0s - loss: 7.3882 - accuracy: 0.0019 - f1_score: 7.2662e-06 INFO:tensorflow:Assets written to: /home/steve/Desktop/Juan_NN/ds_model_ltd/assets\n"
     ]
    },
    {
     "name": "stderr",
     "output_type": "stream",
     "text": [
      "INFO:tensorflow:Assets written to: /home/steve/Desktop/Juan_NN/ds_model_ltd/assets\n"
     ]
    },
    {
     "name": "stdout",
     "output_type": "stream",
     "text": [
      "26/26 [==============================] - 479s 18s/step - loss: 7.3882 - accuracy: 0.0019 - f1_score: 7.2662e-06 - val_loss: 7.3234 - val_accuracy: 0.0011 - val_f1_score: 9.1353e-06 - lr: 1.0000e-04\n",
      "Epoch 20/256\n",
      "26/26 [==============================] - ETA: 0s - loss: 7.2681 - accuracy: 0.0019 - f1_score: 7.2573e-06 INFO:tensorflow:Assets written to: /home/steve/Desktop/Juan_NN/ds_model_ltd/assets\n"
     ]
    },
    {
     "name": "stderr",
     "output_type": "stream",
     "text": [
      "INFO:tensorflow:Assets written to: /home/steve/Desktop/Juan_NN/ds_model_ltd/assets\n"
     ]
    },
    {
     "name": "stdout",
     "output_type": "stream",
     "text": [
      "26/26 [==============================] - 481s 19s/step - loss: 7.2681 - accuracy: 0.0019 - f1_score: 7.2573e-06 - val_loss: 7.2099 - val_accuracy: 0.0019 - val_f1_score: 7.2424e-06 - lr: 1.0000e-04\n",
      "Epoch 21/256\n",
      "26/26 [==============================] - ETA: 0s - loss: 7.1604 - accuracy: 0.0019 - f1_score: 2.5944e-05 INFO:tensorflow:Assets written to: /home/steve/Desktop/Juan_NN/ds_model_ltd/assets\n"
     ]
    },
    {
     "name": "stderr",
     "output_type": "stream",
     "text": [
      "INFO:tensorflow:Assets written to: /home/steve/Desktop/Juan_NN/ds_model_ltd/assets\n"
     ]
    },
    {
     "name": "stdout",
     "output_type": "stream",
     "text": [
      "26/26 [==============================] - 482s 19s/step - loss: 7.1604 - accuracy: 0.0019 - f1_score: 2.5944e-05 - val_loss: 7.1083 - val_accuracy: 0.0019 - val_f1_score: 7.2424e-06 - lr: 1.0000e-04\n",
      "Epoch 22/256\n",
      "26/26 [==============================] - ETA: 0s - loss: 7.0637 - accuracy: 0.0020 - f1_score: 2.0596e-05 INFO:tensorflow:Assets written to: /home/steve/Desktop/Juan_NN/ds_model_ltd/assets\n"
     ]
    },
    {
     "name": "stderr",
     "output_type": "stream",
     "text": [
      "INFO:tensorflow:Assets written to: /home/steve/Desktop/Juan_NN/ds_model_ltd/assets\n"
     ]
    },
    {
     "name": "stdout",
     "output_type": "stream",
     "text": [
      "26/26 [==============================] - 480s 19s/step - loss: 7.0637 - accuracy: 0.0020 - f1_score: 2.0596e-05 - val_loss: 7.0171 - val_accuracy: 0.0019 - val_f1_score: 7.2424e-06 - lr: 1.0000e-04\n",
      "Epoch 23/256\n",
      "26/26 [==============================] - ETA: 0s - loss: 6.9770 - accuracy: 0.0019 - f1_score: 7.7707e-06 INFO:tensorflow:Assets written to: /home/steve/Desktop/Juan_NN/ds_model_ltd/assets\n"
     ]
    },
    {
     "name": "stderr",
     "output_type": "stream",
     "text": [
      "INFO:tensorflow:Assets written to: /home/steve/Desktop/Juan_NN/ds_model_ltd/assets\n"
     ]
    },
    {
     "name": "stdout",
     "output_type": "stream",
     "text": [
      "26/26 [==============================] - 477s 18s/step - loss: 6.9770 - accuracy: 0.0019 - f1_score: 7.7707e-06 - val_loss: 6.9361 - val_accuracy: 0.0019 - val_f1_score: 7.5947e-06 - lr: 1.0000e-04\n",
      "Epoch 24/256\n",
      "26/26 [==============================] - ETA: 0s - loss: 6.8992 - accuracy: 0.0021 - f1_score: 3.2131e-05 INFO:tensorflow:Assets written to: /home/steve/Desktop/Juan_NN/ds_model_ltd/assets\n"
     ]
    },
    {
     "name": "stderr",
     "output_type": "stream",
     "text": [
      "INFO:tensorflow:Assets written to: /home/steve/Desktop/Juan_NN/ds_model_ltd/assets\n"
     ]
    },
    {
     "name": "stdout",
     "output_type": "stream",
     "text": [
      "26/26 [==============================] - 482s 19s/step - loss: 6.8992 - accuracy: 0.0021 - f1_score: 3.2131e-05 - val_loss: 6.8630 - val_accuracy: 0.0019 - val_f1_score: 7.2424e-06 - lr: 1.0000e-04\n",
      "Epoch 25/256\n",
      "26/26 [==============================] - ETA: 0s - loss: 6.8292 - accuracy: 0.0027 - f1_score: 1.9087e-04 INFO:tensorflow:Assets written to: /home/steve/Desktop/Juan_NN/ds_model_ltd/assets\n"
     ]
    },
    {
     "name": "stderr",
     "output_type": "stream",
     "text": [
      "INFO:tensorflow:Assets written to: /home/steve/Desktop/Juan_NN/ds_model_ltd/assets\n"
     ]
    },
    {
     "name": "stdout",
     "output_type": "stream",
     "text": [
      "26/26 [==============================] - 478s 18s/step - loss: 6.8292 - accuracy: 0.0027 - f1_score: 1.9087e-04 - val_loss: 6.8018 - val_accuracy: 0.0019 - val_f1_score: 7.2507e-06 - lr: 1.0000e-04\n",
      "Epoch 26/256\n",
      "26/26 [==============================] - ETA: 0s - loss: 6.7656 - accuracy: 0.0034 - f1_score: 2.2777e-04 INFO:tensorflow:Assets written to: /home/steve/Desktop/Juan_NN/ds_model_ltd/assets\n"
     ]
    },
    {
     "name": "stderr",
     "output_type": "stream",
     "text": [
      "INFO:tensorflow:Assets written to: /home/steve/Desktop/Juan_NN/ds_model_ltd/assets\n"
     ]
    },
    {
     "name": "stdout",
     "output_type": "stream",
     "text": [
      "26/26 [==============================] - 476s 18s/step - loss: 6.7656 - accuracy: 0.0034 - f1_score: 2.2777e-04 - val_loss: 6.7445 - val_accuracy: 0.0015 - val_f1_score: 9.8884e-06 - lr: 1.0000e-04\n",
      "Epoch 27/256\n",
      "26/26 [==============================] - ETA: 0s - loss: 6.7060 - accuracy: 0.0042 - f1_score: 3.2574e-04 INFO:tensorflow:Assets written to: /home/steve/Desktop/Juan_NN/ds_model_ltd/assets\n"
     ]
    },
    {
     "name": "stderr",
     "output_type": "stream",
     "text": [
      "INFO:tensorflow:Assets written to: /home/steve/Desktop/Juan_NN/ds_model_ltd/assets\n"
     ]
    },
    {
     "name": "stdout",
     "output_type": "stream",
     "text": [
      "26/26 [==============================] - 478s 18s/step - loss: 6.7060 - accuracy: 0.0042 - f1_score: 3.2574e-04 - val_loss: 6.6898 - val_accuracy: 0.0034 - val_f1_score: 1.2234e-04 - lr: 1.0000e-04\n",
      "Epoch 28/256\n",
      "26/26 [==============================] - ETA: 0s - loss: 6.6448 - accuracy: 0.0036 - f1_score: 4.0676e-04 INFO:tensorflow:Assets written to: /home/steve/Desktop/Juan_NN/ds_model_ltd/assets\n"
     ]
    },
    {
     "name": "stderr",
     "output_type": "stream",
     "text": [
      "INFO:tensorflow:Assets written to: /home/steve/Desktop/Juan_NN/ds_model_ltd/assets\n"
     ]
    },
    {
     "name": "stdout",
     "output_type": "stream",
     "text": [
      "26/26 [==============================] - 481s 19s/step - loss: 6.6448 - accuracy: 0.0036 - f1_score: 4.0676e-04 - val_loss: 6.6229 - val_accuracy: 0.0038 - val_f1_score: 5.0452e-05 - lr: 1.0000e-04\n",
      "Epoch 29/256\n",
      "26/26 [==============================] - ETA: 0s - loss: 6.5801 - accuracy: 0.0034 - f1_score: 3.8807e-04 INFO:tensorflow:Assets written to: /home/steve/Desktop/Juan_NN/ds_model_ltd/assets\n"
     ]
    },
    {
     "name": "stderr",
     "output_type": "stream",
     "text": [
      "INFO:tensorflow:Assets written to: /home/steve/Desktop/Juan_NN/ds_model_ltd/assets\n"
     ]
    },
    {
     "name": "stdout",
     "output_type": "stream",
     "text": [
      "26/26 [==============================] - 478s 18s/step - loss: 6.5801 - accuracy: 0.0034 - f1_score: 3.8807e-04 - val_loss: 6.5475 - val_accuracy: 0.0065 - val_f1_score: 2.0092e-04 - lr: 1.0000e-04\n",
      "Epoch 30/256\n",
      "26/26 [==============================] - ETA: 0s - loss: 6.5151 - accuracy: 0.0030 - f1_score: 5.9894e-04 INFO:tensorflow:Assets written to: /home/steve/Desktop/Juan_NN/ds_model_ltd/assets\n"
     ]
    },
    {
     "name": "stderr",
     "output_type": "stream",
     "text": [
      "INFO:tensorflow:Assets written to: /home/steve/Desktop/Juan_NN/ds_model_ltd/assets\n"
     ]
    },
    {
     "name": "stdout",
     "output_type": "stream",
     "text": [
      "26/26 [==============================] - 478s 18s/step - loss: 6.5151 - accuracy: 0.0030 - f1_score: 5.9894e-04 - val_loss: 6.4706 - val_accuracy: 0.0038 - val_f1_score: 3.8812e-05 - lr: 1.0000e-04\n",
      "Epoch 31/256\n",
      "26/26 [==============================] - 449s 17s/step - loss: 6.4545 - accuracy: 0.0048 - f1_score: 7.2751e-04 - val_loss: 6.4850 - val_accuracy: 0.0046 - val_f1_score: 7.9959e-05 - lr: 1.0000e-04\n",
      "Epoch 32/256\n",
      "26/26 [==============================] - 447s 17s/step - loss: 6.4010 - accuracy: 0.0035 - f1_score: 6.6328e-04 - val_loss: 6.5574 - val_accuracy: 0.0042 - val_f1_score: 9.7704e-05 - lr: 1.0000e-04\n",
      "Epoch 33/256\n",
      "26/26 [==============================] - ETA: 0s - loss: 6.3678 - accuracy: 0.0045 - f1_score: 9.6895e-04 INFO:tensorflow:Assets written to: /home/steve/Desktop/Juan_NN/ds_model_ltd/assets\n"
     ]
    },
    {
     "name": "stderr",
     "output_type": "stream",
     "text": [
      "INFO:tensorflow:Assets written to: /home/steve/Desktop/Juan_NN/ds_model_ltd/assets\n"
     ]
    },
    {
     "name": "stdout",
     "output_type": "stream",
     "text": [
      "26/26 [==============================] - 482s 19s/step - loss: 6.3678 - accuracy: 0.0045 - f1_score: 9.6895e-04 - val_loss: 6.3412 - val_accuracy: 0.0042 - val_f1_score: 7.7370e-05 - lr: 2.0000e-05\n",
      "Epoch 34/256\n",
      "26/26 [==============================] - ETA: 0s - loss: 6.3570 - accuracy: 0.0042 - f1_score: 5.7989e-04 INFO:tensorflow:Assets written to: /home/steve/Desktop/Juan_NN/ds_model_ltd/assets\n"
     ]
    },
    {
     "name": "stderr",
     "output_type": "stream",
     "text": [
      "INFO:tensorflow:Assets written to: /home/steve/Desktop/Juan_NN/ds_model_ltd/assets\n"
     ]
    },
    {
     "name": "stdout",
     "output_type": "stream",
     "text": [
      "26/26 [==============================] - 479s 18s/step - loss: 6.3570 - accuracy: 0.0042 - f1_score: 5.7989e-04 - val_loss: 6.3400 - val_accuracy: 0.0042 - val_f1_score: 9.8250e-05 - lr: 2.0000e-05\n",
      "Epoch 35/256\n",
      "26/26 [==============================] - ETA: 0s - loss: 6.3462 - accuracy: 0.0050 - f1_score: 8.1602e-04 INFO:tensorflow:Assets written to: /home/steve/Desktop/Juan_NN/ds_model_ltd/assets\n"
     ]
    },
    {
     "name": "stderr",
     "output_type": "stream",
     "text": [
      "INFO:tensorflow:Assets written to: /home/steve/Desktop/Juan_NN/ds_model_ltd/assets\n"
     ]
    },
    {
     "name": "stdout",
     "output_type": "stream",
     "text": [
      "26/26 [==============================] - 485s 19s/step - loss: 6.3462 - accuracy: 0.0050 - f1_score: 8.1602e-04 - val_loss: 6.3356 - val_accuracy: 0.0042 - val_f1_score: 6.4900e-05 - lr: 2.0000e-05\n",
      "Epoch 36/256\n",
      "26/26 [==============================] - 452s 17s/step - loss: 6.3383 - accuracy: 0.0043 - f1_score: 6.7428e-04 - val_loss: 6.3378 - val_accuracy: 0.0042 - val_f1_score: 8.4365e-05 - lr: 2.0000e-05\n",
      "Epoch 37/256\n",
      "26/26 [==============================] - ETA: 0s - loss: 6.3294 - accuracy: 0.0036 - f1_score: 5.4885e-04 INFO:tensorflow:Assets written to: /home/steve/Desktop/Juan_NN/ds_model_ltd/assets\n"
     ]
    },
    {
     "name": "stderr",
     "output_type": "stream",
     "text": [
      "INFO:tensorflow:Assets written to: /home/steve/Desktop/Juan_NN/ds_model_ltd/assets\n"
     ]
    },
    {
     "name": "stdout",
     "output_type": "stream",
     "text": [
      "26/26 [==============================] - 480s 19s/step - loss: 6.3294 - accuracy: 0.0036 - f1_score: 5.4885e-04 - val_loss: 6.3090 - val_accuracy: 0.0042 - val_f1_score: 7.7910e-05 - lr: 2.0000e-05\n",
      "Epoch 38/256\n",
      "26/26 [==============================] - ETA: 0s - loss: 6.3237 - accuracy: 0.0034 - f1_score: 2.8437e-04 INFO:tensorflow:Assets written to: /home/steve/Desktop/Juan_NN/ds_model_ltd/assets\n"
     ]
    },
    {
     "name": "stderr",
     "output_type": "stream",
     "text": [
      "INFO:tensorflow:Assets written to: /home/steve/Desktop/Juan_NN/ds_model_ltd/assets\n"
     ]
    },
    {
     "name": "stdout",
     "output_type": "stream",
     "text": [
      "26/26 [==============================] - 484s 19s/step - loss: 6.3237 - accuracy: 0.0034 - f1_score: 2.8437e-04 - val_loss: 6.3068 - val_accuracy: 0.0042 - val_f1_score: 7.8936e-05 - lr: 2.0000e-05\n",
      "Epoch 39/256\n",
      "26/26 [==============================] - ETA: 0s - loss: 6.3139 - accuracy: 0.0040 - f1_score: 5.7452e-04 INFO:tensorflow:Assets written to: /home/steve/Desktop/Juan_NN/ds_model_ltd/assets\n"
     ]
    },
    {
     "name": "stderr",
     "output_type": "stream",
     "text": [
      "INFO:tensorflow:Assets written to: /home/steve/Desktop/Juan_NN/ds_model_ltd/assets\n"
     ]
    },
    {
     "name": "stdout",
     "output_type": "stream",
     "text": [
      "26/26 [==============================] - 483s 19s/step - loss: 6.3139 - accuracy: 0.0040 - f1_score: 5.7452e-04 - val_loss: 6.2892 - val_accuracy: 0.0042 - val_f1_score: 6.9984e-05 - lr: 2.0000e-05\n",
      "Epoch 40/256\n",
      "26/26 [==============================] - 451s 17s/step - loss: 6.3062 - accuracy: 0.0034 - f1_score: 5.0369e-04 - val_loss: 6.2917 - val_accuracy: 0.0042 - val_f1_score: 1.0252e-04 - lr: 2.0000e-05\n",
      "Epoch 41/256\n",
      "26/26 [==============================] - 450s 17s/step - loss: 6.3006 - accuracy: 0.0036 - f1_score: 8.7713e-04 - val_loss: 6.3016 - val_accuracy: 0.0042 - val_f1_score: 8.6207e-05 - lr: 2.0000e-05\n",
      "Epoch 42/256\n",
      "26/26 [==============================] - ETA: 0s - loss: 6.2939 - accuracy: 0.0044 - f1_score: 7.4171e-04 INFO:tensorflow:Assets written to: /home/steve/Desktop/Juan_NN/ds_model_ltd/assets\n"
     ]
    },
    {
     "name": "stderr",
     "output_type": "stream",
     "text": [
      "INFO:tensorflow:Assets written to: /home/steve/Desktop/Juan_NN/ds_model_ltd/assets\n"
     ]
    },
    {
     "name": "stdout",
     "output_type": "stream",
     "text": [
      "26/26 [==============================] - 481s 19s/step - loss: 6.2939 - accuracy: 0.0044 - f1_score: 7.4171e-04 - val_loss: 6.2756 - val_accuracy: 0.0038 - val_f1_score: 3.4431e-05 - lr: 4.0000e-06\n",
      "Epoch 43/256\n",
      "26/26 [==============================] - ETA: 0s - loss: 6.2920 - accuracy: 0.0043 - f1_score: 6.9772e-04 INFO:tensorflow:Assets written to: /home/steve/Desktop/Juan_NN/ds_model_ltd/assets\n"
     ]
    },
    {
     "name": "stderr",
     "output_type": "stream",
     "text": [
      "INFO:tensorflow:Assets written to: /home/steve/Desktop/Juan_NN/ds_model_ltd/assets\n"
     ]
    },
    {
     "name": "stdout",
     "output_type": "stream",
     "text": [
      "26/26 [==============================] - 481s 19s/step - loss: 6.2920 - accuracy: 0.0043 - f1_score: 6.9772e-04 - val_loss: 6.2699 - val_accuracy: 0.0038 - val_f1_score: 3.4250e-05 - lr: 4.0000e-06\n",
      "Epoch 44/256\n",
      "26/26 [==============================] - ETA: 0s - loss: 6.2889 - accuracy: 0.0040 - f1_score: 8.2173e-04 INFO:tensorflow:Assets written to: /home/steve/Desktop/Juan_NN/ds_model_ltd/assets\n"
     ]
    },
    {
     "name": "stderr",
     "output_type": "stream",
     "text": [
      "INFO:tensorflow:Assets written to: /home/steve/Desktop/Juan_NN/ds_model_ltd/assets\n"
     ]
    },
    {
     "name": "stdout",
     "output_type": "stream",
     "text": [
      "26/26 [==============================] - 484s 19s/step - loss: 6.2889 - accuracy: 0.0040 - f1_score: 8.2173e-04 - val_loss: 6.2667 - val_accuracy: 0.0038 - val_f1_score: 3.4352e-05 - lr: 4.0000e-06\n",
      "Epoch 45/256\n",
      "26/26 [==============================] - 451s 17s/step - loss: 6.2887 - accuracy: 0.0039 - f1_score: 3.5831e-04 - val_loss: 6.2676 - val_accuracy: 0.0038 - val_f1_score: 3.4447e-05 - lr: 4.0000e-06\n",
      "Epoch 46/256\n",
      "26/26 [==============================] - ETA: 0s - loss: 6.2880 - accuracy: 0.0038 - f1_score: 6.1564e-04 INFO:tensorflow:Assets written to: /home/steve/Desktop/Juan_NN/ds_model_ltd/assets\n"
     ]
    },
    {
     "name": "stderr",
     "output_type": "stream",
     "text": [
      "INFO:tensorflow:Assets written to: /home/steve/Desktop/Juan_NN/ds_model_ltd/assets\n"
     ]
    },
    {
     "name": "stdout",
     "output_type": "stream",
     "text": [
      "26/26 [==============================] - 486s 19s/step - loss: 6.2880 - accuracy: 0.0038 - f1_score: 6.1564e-04 - val_loss: 6.2636 - val_accuracy: 0.0038 - val_f1_score: 3.4568e-05 - lr: 4.0000e-06\n",
      "Epoch 47/256\n",
      "26/26 [==============================] - ETA: 0s - loss: 6.2853 - accuracy: 0.0045 - f1_score: 0.0010 INFO:tensorflow:Assets written to: /home/steve/Desktop/Juan_NN/ds_model_ltd/assets\n"
     ]
    },
    {
     "name": "stderr",
     "output_type": "stream",
     "text": [
      "INFO:tensorflow:Assets written to: /home/steve/Desktop/Juan_NN/ds_model_ltd/assets\n"
     ]
    },
    {
     "name": "stdout",
     "output_type": "stream",
     "text": [
      "26/26 [==============================] - 485s 19s/step - loss: 6.2853 - accuracy: 0.0045 - f1_score: 0.0010 - val_loss: 6.2625 - val_accuracy: 0.0038 - val_f1_score: 3.4547e-05 - lr: 4.0000e-06\n",
      "Epoch 48/256\n",
      "26/26 [==============================] - ETA: 0s - loss: 6.2855 - accuracy: 0.0038 - f1_score: 5.8433e-04 INFO:tensorflow:Assets written to: /home/steve/Desktop/Juan_NN/ds_model_ltd/assets\n"
     ]
    },
    {
     "name": "stderr",
     "output_type": "stream",
     "text": [
      "INFO:tensorflow:Assets written to: /home/steve/Desktop/Juan_NN/ds_model_ltd/assets\n"
     ]
    },
    {
     "name": "stdout",
     "output_type": "stream",
     "text": [
      "26/26 [==============================] - 483s 19s/step - loss: 6.2855 - accuracy: 0.0038 - f1_score: 5.8433e-04 - val_loss: 6.2613 - val_accuracy: 0.0038 - val_f1_score: 3.4616e-05 - lr: 4.0000e-06\n",
      "Epoch 49/256\n",
      "26/26 [==============================] - ETA: 0s - loss: 6.2857 - accuracy: 0.0041 - f1_score: 0.0010 INFO:tensorflow:Assets written to: /home/steve/Desktop/Juan_NN/ds_model_ltd/assets\n"
     ]
    },
    {
     "name": "stderr",
     "output_type": "stream",
     "text": [
      "INFO:tensorflow:Assets written to: /home/steve/Desktop/Juan_NN/ds_model_ltd/assets\n"
     ]
    },
    {
     "name": "stdout",
     "output_type": "stream",
     "text": [
      "26/26 [==============================] - 483s 19s/step - loss: 6.2857 - accuracy: 0.0041 - f1_score: 0.0010 - val_loss: 6.2601 - val_accuracy: 0.0038 - val_f1_score: 3.4518e-05 - lr: 4.0000e-06\n",
      "Epoch 50/256\n",
      "26/26 [==============================] - ETA: 0s - loss: 6.2803 - accuracy: 0.0039 - f1_score: 6.0972e-04 INFO:tensorflow:Assets written to: /home/steve/Desktop/Juan_NN/ds_model_ltd/assets\n"
     ]
    },
    {
     "name": "stderr",
     "output_type": "stream",
     "text": [
      "INFO:tensorflow:Assets written to: /home/steve/Desktop/Juan_NN/ds_model_ltd/assets\n"
     ]
    },
    {
     "name": "stdout",
     "output_type": "stream",
     "text": [
      "26/26 [==============================] - 486s 19s/step - loss: 6.2803 - accuracy: 0.0039 - f1_score: 6.0972e-04 - val_loss: 6.2589 - val_accuracy: 0.0038 - val_f1_score: 3.4632e-05 - lr: 4.0000e-06\n",
      "Epoch 51/256\n",
      "26/26 [==============================] - ETA: 0s - loss: 6.2786 - accuracy: 0.0040 - f1_score: 9.2349e-04 INFO:tensorflow:Assets written to: /home/steve/Desktop/Juan_NN/ds_model_ltd/assets\n"
     ]
    },
    {
     "name": "stderr",
     "output_type": "stream",
     "text": [
      "INFO:tensorflow:Assets written to: /home/steve/Desktop/Juan_NN/ds_model_ltd/assets\n"
     ]
    },
    {
     "name": "stdout",
     "output_type": "stream",
     "text": [
      "26/26 [==============================] - 484s 19s/step - loss: 6.2786 - accuracy: 0.0040 - f1_score: 9.2349e-04 - val_loss: 6.2562 - val_accuracy: 0.0038 - val_f1_score: 3.4830e-05 - lr: 4.0000e-06\n",
      "Epoch 52/256\n",
      "26/26 [==============================] - ETA: 0s - loss: 6.2798 - accuracy: 0.0046 - f1_score: 9.2287e-04 INFO:tensorflow:Assets written to: /home/steve/Desktop/Juan_NN/ds_model_ltd/assets\n"
     ]
    },
    {
     "name": "stderr",
     "output_type": "stream",
     "text": [
      "INFO:tensorflow:Assets written to: /home/steve/Desktop/Juan_NN/ds_model_ltd/assets\n"
     ]
    },
    {
     "name": "stdout",
     "output_type": "stream",
     "text": [
      "26/26 [==============================] - 481s 19s/step - loss: 6.2798 - accuracy: 0.0046 - f1_score: 9.2287e-04 - val_loss: 6.2547 - val_accuracy: 0.0038 - val_f1_score: 3.4943e-05 - lr: 4.0000e-06\n",
      "Epoch 53/256\n",
      "26/26 [==============================] - ETA: 0s - loss: 6.2757 - accuracy: 0.0046 - f1_score: 8.0719e-04 INFO:tensorflow:Assets written to: /home/steve/Desktop/Juan_NN/ds_model_ltd/assets\n"
     ]
    },
    {
     "name": "stderr",
     "output_type": "stream",
     "text": [
      "INFO:tensorflow:Assets written to: /home/steve/Desktop/Juan_NN/ds_model_ltd/assets\n"
     ]
    },
    {
     "name": "stdout",
     "output_type": "stream",
     "text": [
      "26/26 [==============================] - 481s 19s/step - loss: 6.2757 - accuracy: 0.0046 - f1_score: 8.0719e-04 - val_loss: 6.2532 - val_accuracy: 0.0038 - val_f1_score: 3.5107e-05 - lr: 4.0000e-06\n",
      "Epoch 54/256\n",
      "26/26 [==============================] - ETA: 0s - loss: 6.2757 - accuracy: 0.0046 - f1_score: 8.2038e-04 INFO:tensorflow:Assets written to: /home/steve/Desktop/Juan_NN/ds_model_ltd/assets\n"
     ]
    },
    {
     "name": "stderr",
     "output_type": "stream",
     "text": [
      "INFO:tensorflow:Assets written to: /home/steve/Desktop/Juan_NN/ds_model_ltd/assets\n"
     ]
    },
    {
     "name": "stdout",
     "output_type": "stream",
     "text": [
      "26/26 [==============================] - 484s 19s/step - loss: 6.2757 - accuracy: 0.0046 - f1_score: 8.2038e-04 - val_loss: 6.2519 - val_accuracy: 0.0038 - val_f1_score: 3.4899e-05 - lr: 4.0000e-06\n",
      "Epoch 55/256\n",
      "26/26 [==============================] - ETA: 0s - loss: 6.2746 - accuracy: 0.0046 - f1_score: 5.1300e-04 INFO:tensorflow:Assets written to: /home/steve/Desktop/Juan_NN/ds_model_ltd/assets\n"
     ]
    },
    {
     "name": "stderr",
     "output_type": "stream",
     "text": [
      "INFO:tensorflow:Assets written to: /home/steve/Desktop/Juan_NN/ds_model_ltd/assets\n"
     ]
    },
    {
     "name": "stdout",
     "output_type": "stream",
     "text": [
      "26/26 [==============================] - 480s 19s/step - loss: 6.2746 - accuracy: 0.0046 - f1_score: 5.1300e-04 - val_loss: 6.2514 - val_accuracy: 0.0038 - val_f1_score: 3.4817e-05 - lr: 4.0000e-06\n",
      "Epoch 56/256\n",
      "26/26 [==============================] - ETA: 0s - loss: 6.2687 - accuracy: 0.0046 - f1_score: 8.6680e-04 INFO:tensorflow:Assets written to: /home/steve/Desktop/Juan_NN/ds_model_ltd/assets\n"
     ]
    },
    {
     "name": "stderr",
     "output_type": "stream",
     "text": [
      "INFO:tensorflow:Assets written to: /home/steve/Desktop/Juan_NN/ds_model_ltd/assets\n"
     ]
    },
    {
     "name": "stdout",
     "output_type": "stream",
     "text": [
      "26/26 [==============================] - 483s 19s/step - loss: 6.2687 - accuracy: 0.0046 - f1_score: 8.6680e-04 - val_loss: 6.2490 - val_accuracy: 0.0038 - val_f1_score: 3.4926e-05 - lr: 4.0000e-06\n",
      "Epoch 57/256\n",
      "26/26 [==============================] - ETA: 0s - loss: 6.2714 - accuracy: 0.0045 - f1_score: 8.2067e-04 INFO:tensorflow:Assets written to: /home/steve/Desktop/Juan_NN/ds_model_ltd/assets\n"
     ]
    },
    {
     "name": "stderr",
     "output_type": "stream",
     "text": [
      "INFO:tensorflow:Assets written to: /home/steve/Desktop/Juan_NN/ds_model_ltd/assets\n"
     ]
    },
    {
     "name": "stdout",
     "output_type": "stream",
     "text": [
      "26/26 [==============================] - 484s 19s/step - loss: 6.2714 - accuracy: 0.0045 - f1_score: 8.2067e-04 - val_loss: 6.2471 - val_accuracy: 0.0038 - val_f1_score: 3.5073e-05 - lr: 4.0000e-06\n",
      "Epoch 58/256\n",
      "26/26 [==============================] - ETA: 0s - loss: 6.2688 - accuracy: 0.0046 - f1_score: 0.0011 INFO:tensorflow:Assets written to: /home/steve/Desktop/Juan_NN/ds_model_ltd/assets\n"
     ]
    },
    {
     "name": "stderr",
     "output_type": "stream",
     "text": [
      "INFO:tensorflow:Assets written to: /home/steve/Desktop/Juan_NN/ds_model_ltd/assets\n"
     ]
    },
    {
     "name": "stdout",
     "output_type": "stream",
     "text": [
      "26/26 [==============================] - 484s 19s/step - loss: 6.2688 - accuracy: 0.0046 - f1_score: 0.0011 - val_loss: 6.2459 - val_accuracy: 0.0038 - val_f1_score: 3.4972e-05 - lr: 4.0000e-06\n",
      "Epoch 59/256\n",
      "26/26 [==============================] - ETA: 0s - loss: 6.2673 - accuracy: 0.0040 - f1_score: 0.0011 INFO:tensorflow:Assets written to: /home/steve/Desktop/Juan_NN/ds_model_ltd/assets\n"
     ]
    },
    {
     "name": "stderr",
     "output_type": "stream",
     "text": [
      "INFO:tensorflow:Assets written to: /home/steve/Desktop/Juan_NN/ds_model_ltd/assets\n"
     ]
    },
    {
     "name": "stdout",
     "output_type": "stream",
     "text": [
      "26/26 [==============================] - 482s 19s/step - loss: 6.2673 - accuracy: 0.0040 - f1_score: 0.0011 - val_loss: 6.2448 - val_accuracy: 0.0038 - val_f1_score: 3.4931e-05 - lr: 4.0000e-06\n",
      "Epoch 60/256\n",
      "26/26 [==============================] - ETA: 0s - loss: 6.2684 - accuracy: 0.0037 - f1_score: 0.0011 INFO:tensorflow:Assets written to: /home/steve/Desktop/Juan_NN/ds_model_ltd/assets\n"
     ]
    },
    {
     "name": "stderr",
     "output_type": "stream",
     "text": [
      "INFO:tensorflow:Assets written to: /home/steve/Desktop/Juan_NN/ds_model_ltd/assets\n"
     ]
    },
    {
     "name": "stdout",
     "output_type": "stream",
     "text": [
      "26/26 [==============================] - 482s 19s/step - loss: 6.2684 - accuracy: 0.0037 - f1_score: 0.0011 - val_loss: 6.2424 - val_accuracy: 0.0038 - val_f1_score: 3.5146e-05 - lr: 4.0000e-06\n",
      "Epoch 61/256\n",
      "26/26 [==============================] - ETA: 0s - loss: 6.2649 - accuracy: 0.0040 - f1_score: 6.1679e-04 INFO:tensorflow:Assets written to: /home/steve/Desktop/Juan_NN/ds_model_ltd/assets\n"
     ]
    },
    {
     "name": "stderr",
     "output_type": "stream",
     "text": [
      "INFO:tensorflow:Assets written to: /home/steve/Desktop/Juan_NN/ds_model_ltd/assets\n"
     ]
    },
    {
     "name": "stdout",
     "output_type": "stream",
     "text": [
      "26/26 [==============================] - 486s 19s/step - loss: 6.2649 - accuracy: 0.0040 - f1_score: 6.1679e-04 - val_loss: 6.2408 - val_accuracy: 0.0038 - val_f1_score: 3.5289e-05 - lr: 4.0000e-06\n",
      "Epoch 62/256\n",
      "26/26 [==============================] - ETA: 0s - loss: 6.2634 - accuracy: 0.0045 - f1_score: 8.6414e-04 INFO:tensorflow:Assets written to: /home/steve/Desktop/Juan_NN/ds_model_ltd/assets\n"
     ]
    },
    {
     "name": "stderr",
     "output_type": "stream",
     "text": [
      "INFO:tensorflow:Assets written to: /home/steve/Desktop/Juan_NN/ds_model_ltd/assets\n"
     ]
    },
    {
     "name": "stdout",
     "output_type": "stream",
     "text": [
      "26/26 [==============================] - 483s 19s/step - loss: 6.2634 - accuracy: 0.0045 - f1_score: 8.6414e-04 - val_loss: 6.2407 - val_accuracy: 0.0038 - val_f1_score: 3.4877e-05 - lr: 4.0000e-06\n",
      "Epoch 63/256\n",
      "26/26 [==============================] - ETA: 0s - loss: 6.2587 - accuracy: 0.0046 - f1_score: 8.8282e-04 INFO:tensorflow:Assets written to: /home/steve/Desktop/Juan_NN/ds_model_ltd/assets\n"
     ]
    },
    {
     "name": "stderr",
     "output_type": "stream",
     "text": [
      "INFO:tensorflow:Assets written to: /home/steve/Desktop/Juan_NN/ds_model_ltd/assets\n"
     ]
    },
    {
     "name": "stdout",
     "output_type": "stream",
     "text": [
      "26/26 [==============================] - 483s 19s/step - loss: 6.2587 - accuracy: 0.0046 - f1_score: 8.8282e-04 - val_loss: 6.2370 - val_accuracy: 0.0038 - val_f1_score: 3.5095e-05 - lr: 4.0000e-06\n",
      "Epoch 64/256\n",
      "26/26 [==============================] - 449s 17s/step - loss: 6.2582 - accuracy: 0.0042 - f1_score: 7.9056e-04 - val_loss: 6.2373 - val_accuracy: 0.0038 - val_f1_score: 3.5045e-05 - lr: 4.0000e-06\n",
      "Epoch 65/256\n",
      "26/26 [==============================] - ETA: 0s - loss: 6.2596 - accuracy: 0.0040 - f1_score: 5.0031e-04 INFO:tensorflow:Assets written to: /home/steve/Desktop/Juan_NN/ds_model_ltd/assets\n"
     ]
    },
    {
     "name": "stderr",
     "output_type": "stream",
     "text": [
      "INFO:tensorflow:Assets written to: /home/steve/Desktop/Juan_NN/ds_model_ltd/assets\n"
     ]
    },
    {
     "name": "stdout",
     "output_type": "stream",
     "text": [
      "26/26 [==============================] - 478s 18s/step - loss: 6.2596 - accuracy: 0.0040 - f1_score: 5.0031e-04 - val_loss: 6.2349 - val_accuracy: 0.0038 - val_f1_score: 3.5291e-05 - lr: 4.0000e-06\n",
      "Epoch 66/256\n",
      "26/26 [==============================] - 449s 17s/step - loss: 6.2567 - accuracy: 0.0043 - f1_score: 7.0660e-04 - val_loss: 6.2351 - val_accuracy: 0.0038 - val_f1_score: 3.4903e-05 - lr: 4.0000e-06\n",
      "Epoch 67/256\n",
      "26/26 [==============================] - ETA: 0s - loss: 6.2535 - accuracy: 0.0045 - f1_score: 6.4366e-04 INFO:tensorflow:Assets written to: /home/steve/Desktop/Juan_NN/ds_model_ltd/assets\n"
     ]
    },
    {
     "name": "stderr",
     "output_type": "stream",
     "text": [
      "INFO:tensorflow:Assets written to: /home/steve/Desktop/Juan_NN/ds_model_ltd/assets\n"
     ]
    },
    {
     "name": "stdout",
     "output_type": "stream",
     "text": [
      "26/26 [==============================] - 479s 18s/step - loss: 6.2535 - accuracy: 0.0045 - f1_score: 6.4366e-04 - val_loss: 6.2314 - val_accuracy: 0.0038 - val_f1_score: 3.5204e-05 - lr: 4.0000e-06\n",
      "Epoch 68/256\n",
      "26/26 [==============================] - 451s 17s/step - loss: 6.2538 - accuracy: 0.0038 - f1_score: 3.3805e-04 - val_loss: 6.2322 - val_accuracy: 0.0038 - val_f1_score: 3.4965e-05 - lr: 4.0000e-06\n",
      "Epoch 69/256\n",
      "26/26 [==============================] - ETA: 0s - loss: 6.2542 - accuracy: 0.0050 - f1_score: 0.0011 INFO:tensorflow:Assets written to: /home/steve/Desktop/Juan_NN/ds_model_ltd/assets\n"
     ]
    },
    {
     "name": "stderr",
     "output_type": "stream",
     "text": [
      "INFO:tensorflow:Assets written to: /home/steve/Desktop/Juan_NN/ds_model_ltd/assets\n"
     ]
    },
    {
     "name": "stdout",
     "output_type": "stream",
     "text": [
      "26/26 [==============================] - 478s 18s/step - loss: 6.2542 - accuracy: 0.0050 - f1_score: 0.0011 - val_loss: 6.2281 - val_accuracy: 0.0038 - val_f1_score: 3.5138e-05 - lr: 4.0000e-06\n",
      "Epoch 70/256\n",
      "26/26 [==============================] - 451s 17s/step - loss: 6.2519 - accuracy: 0.0044 - f1_score: 6.5620e-04 - val_loss: 6.2286 - val_accuracy: 0.0038 - val_f1_score: 3.4918e-05 - lr: 4.0000e-06\n",
      "Epoch 71/256\n",
      "26/26 [==============================] - ETA: 0s - loss: 6.2491 - accuracy: 0.0051 - f1_score: 9.5663e-04 INFO:tensorflow:Assets written to: /home/steve/Desktop/Juan_NN/ds_model_ltd/assets\n"
     ]
    },
    {
     "name": "stderr",
     "output_type": "stream",
     "text": [
      "INFO:tensorflow:Assets written to: /home/steve/Desktop/Juan_NN/ds_model_ltd/assets\n"
     ]
    },
    {
     "name": "stdout",
     "output_type": "stream",
     "text": [
      "26/26 [==============================] - 476s 18s/step - loss: 6.2491 - accuracy: 0.0051 - f1_score: 9.5663e-04 - val_loss: 6.2254 - val_accuracy: 0.0038 - val_f1_score: 3.5204e-05 - lr: 4.0000e-06\n",
      "Epoch 72/256\n",
      "26/26 [==============================] - ETA: 0s - loss: 6.2480 - accuracy: 0.0044 - f1_score: 8.8049e-04 INFO:tensorflow:Assets written to: /home/steve/Desktop/Juan_NN/ds_model_ltd/assets\n"
     ]
    },
    {
     "name": "stderr",
     "output_type": "stream",
     "text": [
      "INFO:tensorflow:Assets written to: /home/steve/Desktop/Juan_NN/ds_model_ltd/assets\n"
     ]
    },
    {
     "name": "stdout",
     "output_type": "stream",
     "text": [
      "26/26 [==============================] - 488s 19s/step - loss: 6.2480 - accuracy: 0.0044 - f1_score: 8.8049e-04 - val_loss: 6.2237 - val_accuracy: 0.0038 - val_f1_score: 3.5235e-05 - lr: 4.0000e-06\n",
      "Epoch 73/256\n",
      "26/26 [==============================] - ETA: 0s - loss: 6.2468 - accuracy: 0.0041 - f1_score: 7.7150e-04 INFO:tensorflow:Assets written to: /home/steve/Desktop/Juan_NN/ds_model_ltd/assets\n"
     ]
    },
    {
     "name": "stderr",
     "output_type": "stream",
     "text": [
      "INFO:tensorflow:Assets written to: /home/steve/Desktop/Juan_NN/ds_model_ltd/assets\n"
     ]
    },
    {
     "name": "stdout",
     "output_type": "stream",
     "text": [
      "26/26 [==============================] - 484s 19s/step - loss: 6.2468 - accuracy: 0.0041 - f1_score: 7.7150e-04 - val_loss: 6.2237 - val_accuracy: 0.0038 - val_f1_score: 3.4960e-05 - lr: 4.0000e-06\n",
      "Epoch 74/256\n",
      "26/26 [==============================] - ETA: 0s - loss: 6.2431 - accuracy: 0.0051 - f1_score: 0.0012 INFO:tensorflow:Assets written to: /home/steve/Desktop/Juan_NN/ds_model_ltd/assets\n"
     ]
    },
    {
     "name": "stderr",
     "output_type": "stream",
     "text": [
      "INFO:tensorflow:Assets written to: /home/steve/Desktop/Juan_NN/ds_model_ltd/assets\n"
     ]
    },
    {
     "name": "stdout",
     "output_type": "stream",
     "text": [
      "26/26 [==============================] - 481s 19s/step - loss: 6.2431 - accuracy: 0.0051 - f1_score: 0.0012 - val_loss: 6.2235 - val_accuracy: 0.0038 - val_f1_score: 3.5036e-05 - lr: 4.0000e-06\n",
      "Epoch 75/256\n",
      "26/26 [==============================] - ETA: 0s - loss: 6.2448 - accuracy: 0.0045 - f1_score: 8.1409e-04 INFO:tensorflow:Assets written to: /home/steve/Desktop/Juan_NN/ds_model_ltd/assets\n"
     ]
    },
    {
     "name": "stderr",
     "output_type": "stream",
     "text": [
      "INFO:tensorflow:Assets written to: /home/steve/Desktop/Juan_NN/ds_model_ltd/assets\n"
     ]
    },
    {
     "name": "stdout",
     "output_type": "stream",
     "text": [
      "26/26 [==============================] - 487s 19s/step - loss: 6.2448 - accuracy: 0.0045 - f1_score: 8.1409e-04 - val_loss: 6.2222 - val_accuracy: 0.0038 - val_f1_score: 3.5006e-05 - lr: 1.0000e-06\n",
      "Epoch 76/256\n",
      "26/26 [==============================] - ETA: 0s - loss: 6.2446 - accuracy: 0.0043 - f1_score: 9.0833e-04 INFO:tensorflow:Assets written to: /home/steve/Desktop/Juan_NN/ds_model_ltd/assets\n"
     ]
    },
    {
     "name": "stderr",
     "output_type": "stream",
     "text": [
      "INFO:tensorflow:Assets written to: /home/steve/Desktop/Juan_NN/ds_model_ltd/assets\n"
     ]
    },
    {
     "name": "stdout",
     "output_type": "stream",
     "text": [
      "\b\b\b\b\b\b\b\b\b\b\b\b\b\b\b\b\b\b\b\b\b\b\b\b\b\b\b\b\b\b\b\b\b\b\b\b\b\b\b\b\b\b\b\b\b\b\b\b\b\b\b\b\b\b\b\b\b\b\b\b\b\b\b\b\b\b\b\b\b\b\b\b\b\b\b\b\b\b\b\b\b\b\b\b\b\b\b\b\b\b\b\b\b\b\b\b\b\b\b\b\b\b\b\b\b\r",
      "26/26 [==============================] - 479s 18s/step - loss: 6.2446 - accuracy: 0.0043 - f1_score: 9.0833e-04 - val_loss: 6.2212 - val_accuracy: 0.0038 - val_f1_score: 3.5103e-05 - lr: 1.0000e-06\n"
     ]
    }
   ],
   "source": [
    "DATA_MOD_DIR = DATA_DIR + '_mod' # Contains reduced training dataset - see optim.py\n",
    "\n",
    "dataset_mod_train = tf.keras.utils.image_dataset_from_directory(\n",
    "    DATA_MOD_DIR,\n",
    "    batch_size=BATCH_SIZE,\n",
    "    label_mode='categorical',\n",
    "    image_size=(RAW_IMAGE_HEIGHT, RAW_IMAGE_WIDTH),\n",
    "    crop_to_aspect_ratio=True\n",
    ")\n",
    "dataset_valid = tf.keras.utils.image_dataset_from_directory(\n",
    "    os.path.join(DATA_DIR, 'valid'),\n",
    "    batch_size=BATCH_SIZE,\n",
    "    label_mode='categorical',\n",
    "    image_size=(RAW_IMAGE_HEIGHT, RAW_IMAGE_WIDTH),\n",
    "    crop_to_aspect_ratio=True\n",
    ")\n",
    "\n",
    "checkpoint_callback = tf.keras.callbacks.ModelCheckpoint(\n",
    "    os.path.join(BASE_DIR, 'ds_model_ltd'),\n",
    "    monitor=\"val_loss\",\n",
    "    save_best_only=True\n",
    ")\n",
    "\n",
    "early_stopping = tf.keras.callbacks.EarlyStopping(\n",
    "    monitor=\"val_loss\",\n",
    "    min_delta=0.005,\n",
    "    patience=5,\n",
    "    restore_best_weights=True\n",
    ")\n",
    "\n",
    "reduce_lr = tf.keras.callbacks.ReduceLROnPlateau(\n",
    "    monitor='val_loss',\n",
    "    factor=0.2,\n",
    "    min_delta=0.001,\n",
    "    patience=2,\n",
    "    cooldown=2,\n",
    "    min_lr=1e-6\n",
    ")\n",
    "\n",
    "train_history = ds_model_ltd.fit(\n",
    "    dataset_mod_train,\n",
    "    steps_per_epoch=len(dataset_mod_train),\n",
    "    validation_data=dataset_valid,\n",
    "    validation_steps=len(dataset_valid),\n",
    "    epochs=256,\n",
    "    callbacks=[\n",
    "        early_stopping,\n",
    "        checkpoint_callback,\n",
    "        reduce_lr\n",
    "    ]\n",
    ")"
   ]
  },
  {
   "cell_type": "markdown",
   "id": "49ff92c4-853f-4e4d-8b45-58d27ec8e6bc",
   "metadata": {},
   "source": [
    "NOTE: The ds_model_ltd checkpoint from above and history.json file below are not included in the repository, as they are not integral to the development of the primary model or its API, but they can be reproduced with the code in this notebook."
   ]
  },
  {
   "cell_type": "code",
   "execution_count": 31,
   "id": "991c099c",
   "metadata": {},
   "outputs": [],
   "source": [
    "from json import dump\n",
    "\n",
    "loss = train_history.history['loss']\n",
    "val_loss = train_history.history['val_loss']\n",
    "accuracy = train_history.history['accuracy']\n",
    "val_accuracy = train_history.history['val_accuracy']\n",
    "f1_score = train_history.history['f1_score']\n",
    "val_f1_score = train_history.history['val_f1_score']\n",
    "epochs = len(train_history.history['val_loss'])    \n",
    "\n",
    "json_path = 'history.json'\n",
    "with open(json_path, 'w') as f:\n",
    "    dump(\n",
    "        {\n",
    "            'loss': loss, 'val_loss': val_loss,\n",
    "            'accuracy': accuracy, 'val_accuracy': val_accuracy,\n",
    "            'f1_score': f1_score, 'val_f1_score': val_f1_score,\n",
    "            'epochs': epochs,\n",
    "            'lr': [\n",
    "                str(lr) for lr in train_history.history['lr']\n",
    "            ]\n",
    "        },\n",
    "        f,\n",
    "        indent=4\n",
    "    )"
   ]
  },
  {
   "cell_type": "code",
   "execution_count": 4,
   "id": "812e14f5",
   "metadata": {},
   "outputs": [
    {
     "name": "stdout",
     "output_type": "stream",
     "text": [
      "Final validation loss: 6.221249103546143\n",
      "Final validation accuracy: 0.003809523768723011\n",
      "Final validation F1-score: 3.51030939782504e-05\n"
     ]
    },
    {
     "data": {
      "image/png": "[encoded data removed]",
      "text/plain": [
       "<Figure size 640x480 with 1 Axes>"
      ]
     },
     "metadata": {},
     "output_type": "display_data"
    }
   ],
   "source": [
    "import matplotlib.pyplot as plt\n",
    "import json\n",
    "\n",
    "with open('fs/history.json') as f:\n",
    "    h = json.load(f)\n",
    "\n",
    "l, = plt.plot(range(1, h['epochs']+1), h['loss'], label='loss')\n",
    "plt.plot(range(1, h['epochs']+1), h['val_loss'], color=l.get_color(), linestyle='--', label='validation loss')\n",
    "plt.legend()\n",
    "plt.xlabel('epoch number');\n",
    "\n",
    "print(f'Final validation loss: {h[\"val_loss\"][-1]}')\n",
    "print(f'Final validation accuracy: {h[\"val_accuracy\"][-1]}')\n",
    "print(f'Final validation F1-score: {h[\"val_f1_score\"][-1]}')"
   ]
  },
  {
   "cell_type": "markdown",
   "id": "a974ad06-2cf6-491c-a848-9350bca5d4ca",
   "metadata": {},
   "source": [
    "The loss does drop as expected over the first 30 epochs, at which point the validation loss raises and drops back down. Beyond this point, the ds_model architecture cannot seem to learn under same constrained conditions of the smaller model in this repository."
   ]
  }
 ],
 "metadata": {
  "kernelspec": {
   "display_name": "Python 3.11 (ipykernel)",
   "language": "python",
   "name": "python3"
  },
  "language_info": {
   "codemirror_mode": {
    "name": "ipython",
    "version": 3
   },
   "file_extension": ".py",
   "mimetype": "text/x-python",
   "name": "python",
   "nbconvert_exporter": "python",
   "pygments_lexer": "ipython3",
   "version": "3.11.6"
  }
 },
 "nbformat": 4,
 "nbformat_minor": 5
}
